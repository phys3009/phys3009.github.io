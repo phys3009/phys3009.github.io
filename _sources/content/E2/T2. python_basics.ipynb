{
 "cells": [
  {
   "cell_type": "markdown",
   "metadata": {},
   "source": [
    "# 2 Introduction to python"
   ]
  },
  {
   "cell_type": "markdown",
   "metadata": {},
   "source": [
    "## 2.1 Python Basics\n",
    "\n",
    "In this course we assume that you have programmed before, but not necessarily in python.\n",
    "\n",
    "All programming languages have the same basic constructs:\n",
    "\n",
    "1. Basic Datatypes\n",
    "2. Collections\n",
    "3. Flow control\n",
    "5. Higher level concepts such as functions or classes\n",
    "\n",
    "There can however, in amongst stuff that looks familiar, be important differences. You can for example try to write python in a way that looks like c code merely updating the syntax. However, if you do that you'll miss out on much of what makes python great, readable. Your code will also probably not work as well. There are also subtle differences which go beyond syntax which it can be helpful to grasp.\n",
    "\n",
    "I will therefore go over a lot of basic info very quickly but leave you this as a reference guide in case I say something you want to lookup. There will be a few places where I'll also slow down in order to make an important distinction, and get you to try a few things. As always these notes are accompanied by exercises so you can check you've understood properly.\n"
   ]
  },
  {
   "cell_type": "markdown",
   "metadata": {},
   "source": [
    "---\n",
    "### 2.1.1 Basic Datatypes\n",
    "\n",
    "Programming languages divide data into different types. In Python the most basic types are:\n",
    "\n",
    "Datatype    |   Explanation                          |  Casting order | Type conversion\n",
    "------------|----------------------------------------|----------------|----------------\n",
    "bool        |   Values that can be `True` or `False` |      low       |     bool()\n",
    "int         |   Whole numbers   :   5, -1, 356       |      middle    |     int()\n",
    "float       |   Decimal values  :   3.1415           |      high      |     float()\n",
    "complex     |   Complex values  :   2 + 3j           |      highest   |     complex()\n",
    "str         |   Strings         :   \"Hello World\"    |      n/a       |     str()\n",
    "\n",
    "Python is *dynamically typed* rather than *statically typed* like c or java. This means we don't need to declare the datatype of the variables we are using. Python makes educated guesses based on the values we assign to a variable. It's also not super fussy. \n"
   ]
  },
  {
   "cell_type": "code",
   "execution_count": null,
   "metadata": {},
   "outputs": [],
   "source": [
    "#We can write stuff like this without any errors\n",
    "a=True\n",
    "a=1\n",
    "a=3.25\n"
   ]
  },
  {
   "cell_type": "markdown",
   "metadata": {},
   "source": [
    "That flexibility can create problems, so it's up to you to be careful. Just because you can do something doesn't mean you should! Being disciplined (getting into good habits) when you write code is therefore important. For example don't write short variable names like `a`, make them descriptive, and don't reuse the same variable with different types. oops ;-)\n",
    "\n",
    "You can check the datatype of a variable using `type(variable)`. \n",
    "\n",
    "Python allows for \"casting\" - that is where possible one datatype can be interpreted as a different compatible datatype. See the example below where True is treated as if it is a 1 (which is an integer). So some types can be used as if they were other ones in the table.  We can also force python to convert some values into lower datatypes (ie treat an integer 1 as a boolean True) by passing them to functions. This only works if it is obvious how the number should be converted. Otherwise python throws an error. All non-zero numbers go to `True`. `0` and `None` become `False` but we can't convert a string to a number if it doesn't look like a number (int('1') works but int('one') doesn't). \n"
   ]
  },
  {
   "cell_type": "code",
   "execution_count": null,
   "metadata": {},
   "outputs": [],
   "source": [
    "#Example adding bool to int. True becomes 1 whereas False becomes 0\n",
    "a = True\n",
    "b = 1\n",
    "print(a+b)\n",
    "\n",
    "#Example adding int to complex\n",
    "c=2\n",
    "print(type(c))\n",
    "d=3.24 + 5j\n",
    "print(type(d))\n",
    "print(c+d)\n",
    "\n",
    "#We can also force python to interpret compatible numbers in certain way.\n",
    "print(a and bool(b))\n"
   ]
  },
  {
   "cell_type": "markdown",
   "metadata": {},
   "source": [
    "### 2.2 Operators\n",
    "Values can be combined with the usual operators. \n",
    "\n",
    "Class of operators        |   Operators\n",
    "--------------------------|--------------------------\n",
    "Assignment operator       |   =\n",
    "Bitwise operators         |   &, \\|, \\~\n",
    "Logical operators         |   and, or, not\n",
    "comparison operators      |   ==, >, <, >=, <=, is\n",
    "arithmetic operators      |   +,-,*,/,//,%,+=,**,(,)\n",
    "\n",
    "Many of these work as you'd expect:"
   ]
  },
  {
   "cell_type": "code",
   "execution_count": null,
   "metadata": {},
   "outputs": [],
   "source": [
    "a=2  # Assign value to a\n",
    "b=3 # Assign value to b\n",
    "print(a+b) # a + b\n",
    "print(a**b) # a to the power of b\n",
    "b+=1 # Add 1 to b\n",
    "print(b)\n",
    "print(b > a)"
   ]
  },
  {
   "cell_type": "markdown",
   "metadata": {},
   "source": [
    "#### `/`, `//`  and  `%`\n",
    "\n",
    "All of these relate to division of numbers"
   ]
  },
  {
   "cell_type": "code",
   "execution_count": null,
   "metadata": {},
   "outputs": [],
   "source": [
    "a=10            #int\n",
    "b=3             #int\n",
    "\n",
    "print(a/b)      #Division as if floats\n",
    "print(a//b)     #Division as integers\n",
    "print(a%b)      #Remainder from integer division"
   ]
  },
  {
   "cell_type": "markdown",
   "metadata": {},
   "source": [
    "#### `=`, `==`, `is`\n",
    "- `=` assigns a value to a variable (e.g `a=1`)\n",
    "- `==` checks if two variables have the same value, \n",
    "- `is` checks if two items are exactly the same (ie are the same physical object, stored in the same bit of memory in the computer)\n",
    "\n",
    "`id(variable)` displays a code showing where in memory a variable is located. Thus we can check if something is the same physical bit of memory or different."
   ]
  },
  {
   "cell_type": "code",
   "execution_count": null,
   "metadata": {},
   "outputs": [],
   "source": [
    "#= , ==, is\n",
    "a=257\n",
    "b=257\n",
    "\n",
    "print(id(a))    #memory id\n",
    "print(id(b))\n",
    "\n",
    "#a and b have the same number but the 257 in a is stored in a different place from the 257 stored in b\n",
    "print(a==b)\n",
    "print(a is b)"
   ]
  },
  {
   "cell_type": "markdown",
   "metadata": {},
   "source": [
    "---\n",
    "\n",
    "### *WARNING*\n",
    "\n",
    "Python has a quirk which will drive you absolutely nuts if you are not aware of it.\n",
    "To save memory, it stores `None`, `True`, `False` and all small numbers from -5 to 256 in the same place. \n",
    "cf the following with above:"
   ]
  },
  {
   "cell_type": "code",
   "execution_count": null,
   "metadata": {},
   "outputs": [],
   "source": [
    "a=256\n",
    "b=256\n",
    "\n",
    "print(id(a))\n",
    "print(id(b))\n",
    "\n",
    "print(a is b)\n",
    "\n",
    "c=None \n",
    "d=None\n",
    "print(c is d)"
   ]
  },
  {
   "cell_type": "markdown",
   "metadata": {},
   "source": [
    "---\n",
    "\n",
    "#### 2.2.2 Bitwise and Logical comparisons\n",
    "\n",
    "When you want to compare boolean values or expressions you are probably looking for the logical operators `and`, `or`, `not`.\n",
    "\n",
    "Bitwise operators are used in specific contexts, for example to do array operations in Numpy. They convert the number to bits (binary 1s and 0s) and perform the operations on each bit. Bitwise operations can quickly get confusing! If you'd like to understand more about how they work in python, I suggest reading this article <a href= \"https://realpython.com/python-bitwise-operators/\">Bitwise Operators</a>. We are going to gloss over them here because they are not used as much as logical operators.\n",
    "\n",
    "Make sure you don't get them muddled up as you'll get some very strange answers.\n",
    "\n",
    "There is a precedence for the order in which operations are calculated. *Don't waste your time!!* At some point you'll spend hours debugging to look for some incorrect logic. Just put brackets in and make your code easy to read."
   ]
  },
  {
   "cell_type": "code",
   "execution_count": null,
   "metadata": {},
   "outputs": [],
   "source": [
    "\"\"\"Logical operators\"\"\"\n",
    "print(3 > 5 and 2 > 1)      #   This gives the same answer as the one below but which is easier to understand?\n",
    "print((3 > 5) and (2 > 1))  #   Using a logical operator to see if both expressions are True.\n",
    "print((3 > 5) or (2 > 1))   #   Same with an or\n",
    "print(not (3 > 5))          # T he not operator"
   ]
  },
  {
   "cell_type": "markdown",
   "metadata": {},
   "source": [
    "#### 2.2.3 Finite precision\n",
    "\n",
    "When python stores a number and hence does a calculation it only stores so many decimal places. As a result the last figure is often rounded meaning that values that are nominally the same evaluate as not equal. You can use the in builtin python `round()` function to chop off figures you are not interested in and make the comparison work the way you expect."
   ]
  },
  {
   "cell_type": "code",
   "execution_count": null,
   "metadata": {},
   "outputs": [],
   "source": [
    "a = 0.01\n",
    "b = 0.1**2\n",
    "print(a==b)\n",
    "\n",
    "print(round(a, 5) == round(b, 5))   #   Round both values to 5 figures."
   ]
  },
  {
   "cell_type": "markdown",
   "metadata": {},
   "source": [
    "---\n",
    "\n",
    "## 2.3 Collections\n",
    "\n",
    "Dealing with individual values is important, but an important power of data is the way we group it together. Logically grouping values is convenient, makes code easier to understand and enables operations to be performed on the whole collection.\n",
    "\n",
    "    exam_marks = [27, 93, 42, 56]\n",
    "\n",
    "Python has a lot of ways to collect data. We will just look at the most common.\n",
    "\n",
    "### 2.3.1 Strings\n",
    "\n",
    "Strings are a collection of characters. To write a string we simply wrap the characters in a pair of either single or double quotation marks. \n",
    "\n",
    "`\"This is a string\"` but `'This is also a string'`\n",
    "\n",
    "Sometimes you might want to mix and match.\n",
    "\n",
    "`\"If you want an apostrophe it's best to use doubles\"`\n",
    "\n",
    "Strings also contain what are called escape characters that help with formatting the data. Here are a few common ones:\n",
    "\n",
    "Type                |   Escape characters\n",
    "--------------------|------------------\n",
    "tab                 |   `\\t`\n",
    "newline             |   `\\n`\n",
    "single backslash    |   `\\\\`\n",
    "\n",
    "\n",
    "Although `\"2\"` and `2` may look the same they are not. The first is a string and the second is a number. You can convert a number to its string equivalent by wrapping it within `str()`. \n",
    "\n",
    "Another option which you may want to use is creating a string that includes the values stored in some variables. For this example:\n",
    "\n",
    "        first = \"a string\"\n",
    "        second = 3\n",
    "\n",
    "Note that the first is a string whilst the second is a number. However, python does the casting into a string automatically.\n",
    "\n",
    "        \"Use {} and a number {} to create a string\".format(first,second)\n",
    "        \"Specify what goes where: {first} and number {second}\".format(first=first, second=second)\n",
    "        f\"More modern use of {a} and a number {b} using 'f-string' method\"\n"
   ]
  },
  {
   "cell_type": "code",
   "execution_count": null,
   "metadata": {},
   "outputs": [],
   "source": [
    "first = \"a string\"\n",
    "second = 3\n",
    "\n",
    "print(\"some \\t examples \\n\\n of escape strings \")\n",
    "print(\"Use {} and a number {} to create a string\".format(first,second))\n",
    "print(\"Specify what goes where: {first} and number {second}\".format(first=first, second=second))\n",
    "print(f\"More modern use of {first} and a number {second} using 'f-string' method\")"
   ]
  },
  {
   "cell_type": "markdown",
   "metadata": {},
   "source": [
    "\n",
    "#### 2.3.1.1 Slicing a string\n",
    "\n",
    "We can obtain part of a string using \"slicing\". This uses square brackets and a few indices to select the bit of the string we want. The first character corresponds to 0 and the final index is not included in the string. Up to 3 indices can be given corresponding to \n",
    "\n",
    "        [start_index:stop_index:step]\n",
    "\n",
    "Indices can also be omitted indicating for example all the characters from the beginning up to stop_index\n",
    "\n",
    "        [:stop_index:]\n",
    "\n",
    "One can also count from the end of the string using negative indices:\n",
    "\n",
    "        [:-2] \n",
    "\n",
    "meaning all but the last 2 characters.\n",
    "\n",
    "Here are some examples:"
   ]
  },
  {
   "cell_type": "code",
   "execution_count": null,
   "metadata": {},
   "outputs": [],
   "source": [
    "original_string = \"Some long complicated string\"\n",
    "lon = original_string[5:8] # Note index 8, i.e 'g' is not included\n",
    "print(lon)\n",
    "string = original_string[-6:]\n",
    "print(string)\n",
    "every_other = original_string[::2]\n",
    "print(every_other)"
   ]
  },
  {
   "cell_type": "markdown",
   "metadata": {},
   "source": [
    "There are also many useful methods you can use to manipulate strings: splitting a string at particular characters, replacing sections of a string, changing the case of letters etc. \n",
    "\n",
    "<a href = https://docs.python.org/3/library/stdtypes.html#string-methods> Look up string methods documentation </a>"
   ]
  },
  {
   "cell_type": "code",
   "execution_count": null,
   "metadata": {},
   "outputs": [],
   "source": [
    "string_to_manipulate = \"I want this removed this this\".replace(\" this\",\"\")\n",
    "print(string_to_manipulate)"
   ]
  },
  {
   "cell_type": "markdown",
   "metadata": {},
   "source": [
    "You can then put two strings together using \"concatenation\". In python this is done using a `+` operator. Be careful of your datatype. Numbers are added but strings are concatenated so"
   ]
  },
  {
   "cell_type": "code",
   "execution_count": null,
   "metadata": {},
   "outputs": [],
   "source": [
    "a=1\n",
    "b=2\n",
    "c=\"1\"\n",
    "d=\"2\"\n",
    "\n",
    "print(a+b)\n",
    "print(c+d)"
   ]
  },
  {
   "cell_type": "markdown",
   "metadata": {},
   "source": [
    "#### 2.3.1.2 Manipulating filenames and paths\n",
    "\n",
    "A common task for strings is their use in filenames and paths (the location / directory of a file). \n",
    "On Windows your file explorer and command prompt write filenames using backslashes `\\`. However, this creates an issue when using with python as the backslash is an escape character (see above). You can rewrite your paths using `/` or you must add an additional backslash. As a result:\n",
    "\n",
    "        C:\\Documents\\Videos\\myfilename.mp4\n",
    "\n",
    "in your fileexplorer becomes:\n",
    "\n",
    "        \"C:/Documents/Videos/myfilename.mp4\"\n",
    "\n",
    "or\n",
    "\n",
    "        \"C:\\\\Documents\\\\Videos\\\\myfilename.mp4\"\n",
    "\n",
    "You will often want to manipulate filenames and paths. You can do this manually using slicing and concatentation:"
   ]
  },
  {
   "cell_type": "code",
   "execution_count": null,
   "metadata": {},
   "outputs": [],
   "source": [
    "movie = 'path/to/videofilename.mp4'\n",
    "datafilename = movie[:-4] + '.txt'\n",
    "print(datafilename)"
   ]
  },
  {
   "cell_type": "markdown",
   "metadata": {},
   "source": [
    "However, it is usually better to use functions from the built in python library called <a href = https://docs.python.org/3/library/os.path.html>os.path</a> or another library named <a href=\"https://docs.python.org/3/library/glob.html\">glob</a> which has some more advanced features. The main reason is that if you use your code on Mac or Linux machines these operating systems use `/` in filenames. Consequently code can break. These other libraries resolve this issue, making things operating system independent."
   ]
  },
  {
   "cell_type": "code",
   "execution_count": null,
   "metadata": {},
   "outputs": [],
   "source": [
    "import os\n",
    "\n",
    "fullpath = \"path/to/videofilename.mp4\"\n",
    "\n",
    "print(os.path.exists(fullpath)) # Note this file doesn't exist so this returns False\n",
    "basename = os.path.basename(fullpath)\n",
    "directory_path, filename = os.path.split(fullpath)\n",
    "filename, extension = os.path.splitext(filename)\n",
    "\n",
    "print(basename)\n",
    "print(directory_path)\n",
    "print(filename)\n",
    "print(extension)\n",
    "\n",
    "print(os.path.join(directory_path, filename + extension))\n"
   ]
  },
  {
   "cell_type": "markdown",
   "metadata": {},
   "source": [
    "### 2.3.2 Tuples\n",
    "\n",
    "There are a number of ways to store a collection of numbers or strings. We will start with Tuples as they behave quite like strings. To create a Tuple, just as with strings, we can slice and concatenate tuples to create new tuples:"
   ]
  },
  {
   "cell_type": "code",
   "execution_count": null,
   "metadata": {},
   "outputs": [],
   "source": [
    "a = (1,2,3,4,5)\n",
    "b=(6,7)\n",
    "a_short=a[1:3]\n",
    "print(a_short+b)\n",
    "\n",
    "c=(\"A\",\"few\",\"strings\")\n",
    "print(c)\n",
    "\n",
    "#Have a think about how this works to just give a w?\n",
    "print(c[1][2])"
   ]
  },
  {
   "cell_type": "markdown",
   "metadata": {},
   "source": [
    "Python enables us to *pack* and *unpack* variables contained in a collection very easily. It also enables us to play tricks."
   ]
  },
  {
   "cell_type": "code",
   "execution_count": null,
   "metadata": {},
   "outputs": [],
   "source": [
    "colour = (255, 100, 70)\n",
    "red, green, blue = colour\n",
    "print(red, green, blue)\n",
    "\n",
    "blue, green, red = red, green, blue\n",
    "print(red,green, blue)  # swap the red and blue colour channels over.\n",
    "\n",
    "blue, *othercolours = colour # extract some of the colours\n",
    "print(blue)\n",
    "print(othercolours)\n",
    "\n",
    "blue, _, _ = colour # Indicate that you want the blue variable and aren't bothered about the other variables."
   ]
  },
  {
   "cell_type": "markdown",
   "metadata": {},
   "source": [
    "### 2.3.3 Lists, Dictionaries and Mutability\n",
    "\n",
    "Python also has a number of other collections which are extremely important / common. Chief amongst these are the `List` and `Dictionary`. However, there is a fundamental distinction in python between two types of data: *mutable* and *immutable*. This distinction is very powerful but can result in some confusion.\n",
    "\n",
    "All the datatypes and collections we've looked at so far are *immutable*. This means that once you create something and assign it to a variable it cannot be changed. Trying to do so will result in an error. If you want to modify a particular value you have to create a new object."
   ]
  },
  {
   "cell_type": "code",
   "execution_count": null,
   "metadata": {},
   "outputs": [],
   "source": [
    "# This doesn't work\n",
    "a = (1,2,3,4,5)\n",
    "a[1] = 5"
   ]
  },
  {
   "cell_type": "code",
   "execution_count": null,
   "metadata": {},
   "outputs": [],
   "source": [
    "# This does but notice its a completely new tuple containing the numbers we want\n",
    "a_tuple = (1,2,3,4,5)\n",
    "print(id(a_tuple))\n",
    "a_tuple = (a_tuple[0],) + (5,) + (a_tuple[2:]) # Note tuples that are only 1 value long have a trailing \",\"\n",
    "print(id(a_tuple))\n",
    "print(a_tuple)"
   ]
  },
  {
   "cell_type": "markdown",
   "metadata": {},
   "source": [
    "Note the new `a_tuple` is not in the same bit of memory as the old `a_tuple`. You are making a copy of an entirely new tuple when all you want is to alter a single value within it. This makes this very costly in terms of memory. In contrast `Lists` and `Dictionaries` can have their values modified without being moved to a new location.\n",
    "\n",
    "### 2.3.4 Lists\n",
    "\n",
    "Lists are created using square brackets. On the surface they seem to behave the same as tuples, but they are an example of a *mutable* collection. Compare the output with the equivalent tuples above:"
   ]
  },
  {
   "cell_type": "code",
   "execution_count": null,
   "metadata": {},
   "outputs": [],
   "source": [
    "a_list = [1,2,3,4,5]\n",
    "print(id(a_list))\n",
    "a_list[1]=5\n",
    "print(id(a_list))\n",
    "print(a_list)"
   ]
  },
  {
   "cell_type": "markdown",
   "metadata": {},
   "source": [
    "This is much better from a memory point of view, but this flexibility comes with some complications you need to be aware of."
   ]
  },
  {
   "cell_type": "code",
   "execution_count": null,
   "metadata": {},
   "outputs": [],
   "source": [
    "first_list = [1,2,3,4,5]\n",
    "second_list = first_list    # This might look like a straightforward copy but it is really just a different name pointing to the same bit of memory\n",
    "print(first_list)\n",
    "print(second_list)\n",
    "second_list[1] = 5  # We changed the value in the second list\n",
    "print(first_list)   # But it also changed the value in the first list\n",
    "second_list.append(10) # Notice this is never assigned to a new variable. You couldn't do this on a tuple.\n",
    "print(first_list)\n",
    "second_list.pop(2) #remove the third element\n",
    "print(first_list)\n",
    "second_list.sort(reverse=True) # Again notice this is not assigned, the sorting is done without moving to new memory.\n",
    "print(first_list)"
   ]
  },
  {
   "cell_type": "markdown",
   "metadata": {},
   "source": [
    "Lists are often used when you have a set of items (numbers or strings) and want to perform operations on each item in the list. They operate a bit like arrays in many other languages. Later we will look at Numpy arrays. These look syntactically a bit like lists. Numpy arrays are designed for performance but lists are much more flexible. Until you are dealing with large datasets or concerned about performance, lists are probably better.\n",
    "\n",
    "#### 2.3.4.1 Nesting Lists etc\n",
    "\n",
    "One can store lists inside lists. In fact all the data collections can be combined. A list of lists can look similar to a matrix but it doesn't enable easy manipulation. Numpy which we'll look at later is setup for this kind of thing so if you want a matrix use numpy. However, on the plus side a list of lists is very flexible. For example, not all the lists have to be the same length and they can contain a heterogeneous mixture of datatypes."
   ]
  },
  {
   "cell_type": "code",
   "execution_count": null,
   "metadata": {},
   "outputs": [],
   "source": [
    "nested_list = [[1,2,3],[4,5,6],[7,8,9]]\n",
    "print(nested_list)\n",
    "row3 = nested_list[2]\n",
    "print(row3)\n",
    "# N.B this would work in numpy but doesn't work for a list col2 = nested_list[:,1]\n",
    "\n",
    "another_nested_list = [['a', 1, (2,3)],[2,3],[{'key':'value'},3,'word']]\n",
    "first_list_third_val_first_part_tuple = another_nested_list[0][2][0]\n",
    "print(another_nested_list)\n",
    "print(first_list_third_val_first_part_tuple)"
   ]
  },
  {
   "cell_type": "markdown",
   "metadata": {},
   "source": [
    "#### 2.3.4.2 \"in\" operator\n",
    "\n",
    "A very useful operator in conjunction with lists and tuples is the `in` operator which tests whether a list contains a value"
   ]
  },
  {
   "cell_type": "code",
   "execution_count": null,
   "metadata": {},
   "outputs": [],
   "source": [
    "names = ['Mark','Jane','Bob','Lucy']\n",
    "if 'Mark' in names:\n",
    "    print('found Mark')"
   ]
  },
  {
   "cell_type": "markdown",
   "metadata": {},
   "source": [
    "### 2.3.5 Dictionaries\n",
    "\n",
    "Whereas lists are about sequential items where you access each element by its index position, dictionaries are a data structure that allow you to categorise or name data. The data is stored as a series of *key : value* pairs. The important thing to remember is that the order of values in a dictionary is not preserved.\n",
    "\n",
    "*n.b if you've studied lower-level languages then a dictionary is a type of hash table* "
   ]
  },
  {
   "cell_type": "code",
   "execution_count": null,
   "metadata": {},
   "outputs": [],
   "source": [
    "module_dictionary = {   'lecturer' : 'Mike Smith',\n",
    "                        'module_code':'PHYS4038',\n",
    "                        'number_students': 40,\n",
    "                        } #Setup the initial dictionary using squiggly brackets\n",
    "\n",
    "print(module_dictionary)\n",
    "\n",
    "module_dictionary['marks'] = [70,60,50,40] # Add a new field to the dictionary\n",
    "print(module_dictionary['lecturer'])  #Access particular value via its key\n",
    "\n",
    "module_dictionary.pop('number_students')  # Remove an item from the dictionary\n",
    "\n",
    "print(module_dictionary.items()) # Extract data as a list of tuples\n",
    "print(module_dictionary.keys()) # get all the keys\n",
    "print(module_dictionary.values()) # get all the values."
   ]
  },
  {
   "cell_type": "markdown",
   "metadata": {},
   "source": [
    "---\n",
    "\n",
    "## 2.4 Flow control\n",
    "\n",
    "The real power of programming comes through computers making decisions based on the logic we give them. Python like other languages uses a few constructs to control the flow of a program. Unlike many languages which often indicate a code block using a syntax which looks like:\n",
    " \n",
    "        if(some condition){ code block }\n",
    "\n",
    "python uses indenting by 4 spaces, to indicate which level code is at. If you don't indent correctly you change the logic of your program. Consequently, how you lay out your code matters a lot!"
   ]
  },
  {
   "cell_type": "code",
   "execution_count": null,
   "metadata": {},
   "outputs": [],
   "source": [
    "condition = False\n",
    "if condition:   #   Note we don't need to write condition == True\n",
    "    print('inside the if statement')    # Indented\n",
    "print('not inside the if statement')    # not indented"
   ]
  },
  {
   "cell_type": "markdown",
   "metadata": {},
   "source": [
    "One can provide multiple options. This replaces things like \"switch\" statements in other languages. The statements are evaluated in order"
   ]
  },
  {
   "cell_type": "code",
   "execution_count": null,
   "metadata": {},
   "outputs": [],
   "source": [
    "a=5\n",
    "#Use if, elif, else\n",
    "if a < 5:\n",
    "    print('a < 5')\n",
    "elif a <= 5:\n",
    "    print('a <= 5')\n",
    "elif a < 20:\n",
    "    print('This is never reached')\n",
    "else:\n",
    "    print('final catch all for values not yet covered')\n",
    "\n",
    "\n",
    "#Which is different to this where we just use ifs:\n",
    "if a < 5:\n",
    "    print('a < 5')\n",
    "if a <= 5:\n",
    "    print('a <= 5')\n",
    "if a < 20:\n",
    "    print('This is now reached')\n",
    "else:\n",
    "    print('final catch all for values not yet covered')\n"
   ]
  },
  {
   "cell_type": "markdown",
   "metadata": {},
   "source": [
    "It is also possible to write a quick one liner:"
   ]
  },
  {
   "cell_type": "code",
   "execution_count": null,
   "metadata": {},
   "outputs": [],
   "source": [
    "print('Good maths' if 5 > 4 else 'Bad maths' )"
   ]
  },
  {
   "cell_type": "markdown",
   "metadata": {},
   "source": [
    "### 2.4.2 try except finally\n",
    "\n",
    "Sometimes code will result in an error. It is possible to implement code that will run in the event of an error. There are two types of errors:\n",
    "- the first type of error is due to poor programming. Don't use this construct to cover this up it will create more issues for you later!\n",
    "- the second type of error is when under certain conditions an error is expected but you want to deal with this error."
   ]
  },
  {
   "cell_type": "code",
   "execution_count": null,
   "metadata": {},
   "outputs": [],
   "source": [
    "other_number = 5\n",
    "input_number = 0\n",
    "\n",
    "try:\n",
    "    # If input_number is 0, this will raise a ZeroDivisionError exception.\n",
    "    answer=other_number / input_number\n",
    "except Exception:\n",
    "    print(\"You can't divide by zero!\")\n",
    "\n",
    "# You can also specify some cleanup code to be executed no matter what happens,\n",
    "\n",
    "try:\n",
    "    answer=other_number / input_number\n",
    "    # We can use the exact error we want to catch\n",
    "except ZeroDivisionError:\n",
    "    print(\"You can't divide by zero!\")\n",
    "except Exception:\n",
    "    # Not executed in this case but if input_number were None, this would be executed.\n",
    "    print(\"Catch all other exceptions\")\n",
    "finally:\n",
    "    print(\"This will always be printed\")\n"
   ]
  },
  {
   "cell_type": "markdown",
   "metadata": {},
   "source": [
    "---\n",
    "\n",
    "## 2.5 Loops"
   ]
  },
  {
   "cell_type": "markdown",
   "metadata": {},
   "source": [
    "### 2.5.1 while loops\n",
    "\n",
    "The while loop in python works like nearly every other language"
   ]
  },
  {
   "cell_type": "code",
   "execution_count": null,
   "metadata": {},
   "outputs": [],
   "source": [
    "i=0\n",
    "while True:\n",
    "    i+=1\n",
    "    if i == 5:\n",
    "        continue    # skips rest of loop and hence doesn't print out 5\n",
    "    if i > 10:\n",
    "        break       # Terminates the loop\n",
    "    print(i)\n"
   ]
  },
  {
   "cell_type": "markdown",
   "metadata": {},
   "source": [
    "### 2.5.2 For loops\n",
    "\n",
    "When people come to python from other languages they often try to write python for loops like this:"
   ]
  },
  {
   "cell_type": "code",
   "execution_count": null,
   "metadata": {},
   "outputs": [],
   "source": [
    "indices = range(10) \n",
    "print(list(indices))\n",
    "\n",
    "alphabet = ['a','b','c','d','e','f','g','h','i','j']\n",
    "\n",
    "for i in range(10):\n",
    "    print(alphabet[i])"
   ]
  },
  {
   "cell_type": "markdown",
   "metadata": {},
   "source": [
    "This works, but it misses the power and flexibility of python. Python collections are iterables which enables you to write much simpler, human readable code. \"Pythonic\". Look how much more readable this is:"
   ]
  },
  {
   "cell_type": "code",
   "execution_count": null,
   "metadata": {},
   "outputs": [],
   "source": [
    "alphabet = ['a','b','c','d','e','f','g','h','i','j']\n",
    "\n",
    "for letter in alphabet:\n",
    "    print(letter)"
   ]
  },
  {
   "cell_type": "code",
   "execution_count": null,
   "metadata": {},
   "outputs": [],
   "source": [
    "# There are also more advanced ways of looping through lists if for example you want to know the index of each item\n",
    "alphabet = ['a','b','c','d','e','f','g','h','i','j']\n",
    "\n",
    "for idx, letter in enumerate(alphabet):\n",
    "    print(f'{letter} is letter number {idx+1} in the alphabet')"
   ]
  },
  {
   "cell_type": "code",
   "execution_count": null,
   "metadata": {},
   "outputs": [],
   "source": [
    "# If you are looping through two lists at the same time, you can use zip\n",
    "greek_letter_names = ['Alpha', 'Beta', 'Gamma', 'Delta', 'Epsilon', 'Zeta', 'Eta','Theta','Iota','Kappa']\n",
    "greek_alphabet = ['\\u0391', '\\u0392','\\u0393','\\u0394','\\u0395','\\u0396','\\u0397','\\u0398','\\u0399','\\u039a']\n",
    "\n",
    "print('\\n')\n",
    "\n",
    "for letter_name, symbol in zip(greek_letter_names, greek_alphabet):\n",
    "    print(f'The greek symbol for {letter_name} is {symbol}')"
   ]
  },
  {
   "cell_type": "markdown",
   "metadata": {},
   "source": [
    "### 2.5.3 Comprehensions\n",
    "\n",
    "Often we want to convert one list into another list following some simple rules. This can be done in one line using a list comprehension. This can also be combined with logic to filter the lists."
   ]
  },
  {
   "cell_type": "code",
   "execution_count": null,
   "metadata": {},
   "outputs": [],
   "source": [
    "old_list = [1,2,3,4,5,6,7,8,9,10]\n",
    "new_list = [item**2 for item in old_list]   # Create a list of squared values\n",
    "print(new_list)\n",
    "new_list = [item**2 for item in old_list  if (item > 5)]\n",
    "print(new_list)"
   ]
  },
  {
   "cell_type": "markdown",
   "metadata": {},
   "source": [
    "Similar behaviour can be used with dictionaries, though the synatax is a little harder. Note the brackets change. Or to link lists together in a dictionary."
   ]
  },
  {
   "cell_type": "code",
   "execution_count": null,
   "metadata": {},
   "outputs": [],
   "source": [
    "old_dictionary = {'a':2,'b':5, 'c':3,'d':10}\n",
    "new_dictionary = {key : value for key,value in old_dictionary.items() if value > 3}\n",
    "print(new_dictionary)\n",
    "\n",
    "student = ['Mark', 'Jane', 'Bob', 'Lucy']\n",
    "marks = [80, 50, 65, 70]\n",
    "\n",
    "new_dictionary = {name :  mark for name, mark in zip(student, marks)}\n",
    "print(new_dictionary)"
   ]
  },
  {
   "cell_type": "markdown",
   "metadata": {},
   "source": [
    "## 2.6 Reading & Writing to / from Text Files\n",
    "\n",
    "Writing and reading information from files is fundamental. We may need to read some stored settings / parameters or load some data. Alternatively we might want to save results from our program to a file. The simplest example of doing this is using text files. This is a 3 stage process\n",
    "\n",
    "1. Opening the file\n",
    "2. Writing to or reading from the file\n",
    "3. Closing the file\n",
    "\n",
    "When we open the file we need to specify how we would like to open it: for example to read text (`r`), write text (`w`) - replacing the existing contents of the file or to append text (`a`) - add text to the end of a file."
   ]
  },
  {
   "cell_type": "code",
   "execution_count": null,
   "metadata": {},
   "outputs": [],
   "source": [
    "f=open('resources/textfiles/exampletext.txt', 'r')  # open file in read mode\n",
    "\n",
    "firstline = f.readline()\n",
    "print(firstline)\n",
    "secondline = f.readline()\n",
    "print(secondline)\n",
    "f.close()\n"
   ]
  },
  {
   "cell_type": "markdown",
   "metadata": {},
   "source": [
    "A better way to write this which makes sure we don't leave any files unclosed by accident is to use a context manager. The context manager uses the `with` statement. When you exit the indented portion of the code this will close the file."
   ]
  },
  {
   "cell_type": "code",
   "execution_count": null,
   "metadata": {},
   "outputs": [],
   "source": [
    "with open('exampletext.txt', 'a') as f:\n",
    "    f.write('\\nAdd a third line to the file \\n A fourth line \\n')  # note \\n gives us a new line\n",
    "    print( 27, 81, 36, sep='\\t',file=f)     # We can also use print with the key word argument file to redirect the output to the file."
   ]
  },
  {
   "cell_type": "markdown",
   "metadata": {},
   "source": [
    "## 2.7 Functions\n",
    "\n",
    "A function is a bit of code that we wrap inside a code block. It takes inputs, runs some code and provides outputs. Why do we need to separate out bits of code like this?\n",
    "\n",
    "1. DRY  -   Don't repeat yourself! Functions allow us to reuse important or frequent bits of code.\n",
    "2. By breaking code into chunks and using descriptive names and doc strings that describe the inputs and outputs of a function, I don't need, to hold all the logic of a large program in my mind at once\n",
    "2. Makes the code more readable and hence speeds up future use and development.\n",
    "\n",
    "### 2.7.1 Regular functions\n",
    "\n",
    "Each function should represent a particular task. Name them using a descriptive term, often including a verb which indicates that the function *does* something. Always write a `docstring` that at a minimum explains what the function does. For more developed code indicate what the type and purpose of the inputs and return values from the function are.\n",
    "\n",
    "See some popular formats for docstrings: <a href=\"https://sphinxcontrib-napoleon.readthedocs.io/en/latest/example_google.html\">Google</a>,  <a href=\"https://sphinxcontrib-napoleon.readthedocs.io/en/latest/example_numpy.html#example-numpy\"> Numpy </a>\n",
    "\n",
    "Functions are not run when they are declared, but must be called separately. "
   ]
  },
  {
   "cell_type": "code",
   "execution_count": null,
   "metadata": {},
   "outputs": [],
   "source": [
    "def calc_power(a,n):\n",
    "    \"\"\"Calculate the nth power of a number a\"\"\"\n",
    "    a_power_n = a**n\n",
    "    return a_power_n\n",
    "\n",
    "print(calc_power(2,3))"
   ]
  },
  {
   "cell_type": "markdown",
   "metadata": {},
   "source": [
    "In the above function, all the arguments are known as *positional* arguments. That is python knows which number should be assigned to which variable based on the ordering. It is also possible to have *keyword* arguments. These always come after the positional arguments in a function definition. These assign a default value to a keyword and as a result supplying a value is optional"
   ]
  },
  {
   "cell_type": "code",
   "execution_count": null,
   "metadata": {},
   "outputs": [],
   "source": [
    "def calc_power(a, n=2):\n",
    "    \"Same power function with a default value for n\"\n",
    "    return a**n\n",
    "\n",
    "print(calc_power(3))\n",
    "print(calc_power(3, n=3))\n"
   ]
  },
  {
   "cell_type": "markdown",
   "metadata": {},
   "source": [
    "Sometimes you may need to write an unknown number of positional or keyword arguments. By convention **args* is used to define an unknown number of positional arguments as a list. Similarly ***kwargs* defines some keyword arguments as a dictionary. Notice in the example below there are 6 values, 3 positional and 3 keyword arguments but the function declaration only has 4 terms."
   ]
  },
  {
   "cell_type": "code",
   "execution_count": null,
   "metadata": {},
   "outputs": [],
   "source": [
    "def multiply_bunch_numbers(a, *args, b=2, **kwargs):\n",
    "    \"\"\"Demonstrate multiplying unknown number of positional and keyword arguments together\"\"\"\n",
    "    print(args)\n",
    "    print(kwargs)\n",
    "    total = a\n",
    "    for arg in args:\n",
    "        total *= arg\n",
    "    total *= b\n",
    "\n",
    "    for value in kwargs.values():\n",
    "        total *= value\n",
    "    print('Total =', total)\n",
    "    return total\n",
    "    \n",
    "\n",
    "multiply_bunch_numbers(1,2,3,b=4, c=5, d=6)"
   ]
  },
  {
   "cell_type": "markdown",
   "metadata": {},
   "source": [
    "---\n",
    "\n",
    "### *Warning* - Never use mutable datatypes as keyword arguments in a function\n",
    "\n",
    "A lesson learnt the hardway is that whilst keyword arguments are great, you should only provide immutable datatypes or collections to the function. Otherwise very odd things can happen:"
   ]
  },
  {
   "cell_type": "code",
   "execution_count": null,
   "metadata": {},
   "outputs": [],
   "source": [
    "def bad_namelist_function(new_name, names=[]):\n",
    "    names.append(new_name)  # add name to the list of names\n",
    "    print(names)    # print current list\n",
    "\n",
    "bad_namelist_function('Matt')\n",
    "# Since we supplied an empty list we might expect the list to just contain John but it remembers Matt\n",
    "bad_namelist_function('John')\n"
   ]
  },
  {
   "cell_type": "markdown",
   "metadata": {},
   "source": [
    "We won't spend time exploring this, if you want to you can <a href = \"https://docs.python-guide.org/writing/gotchas/\">look up an explanation </a>. Just remember do not use lists or dictionaries as default keyword arguments."
   ]
  },
  {
   "cell_type": "markdown",
   "metadata": {},
   "source": [
    "---\n",
    "\n",
    "### 2.7.2 Lambda functions\n",
    "\n",
    "Sometimes we need a very quick one liner function. These are also commonly used as *call back functions* in graphical user interfaces where for example we want a calculation done when the user presses the button. Lambda functions can be written like this:"
   ]
  },
  {
   "cell_type": "code",
   "execution_count": null,
   "metadata": {},
   "outputs": [],
   "source": [
    "f = lambda x : x**2\n",
    "g = lambda x, y : y if x > y else x\n",
    "\n",
    "print(f(2))\n",
    "print(g(2,3))\n"
   ]
  },
  {
   "cell_type": "markdown",
   "metadata": {},
   "source": [
    "### 2.7.3 Scopes\n",
    "\n",
    "The top level of your program (ie the script that you run) contains what is called the *global* scope. All variables defined here are visible to all parts of your program. If we create a function, this results in a new *local* scope. Everything inside your function is in the *local* scope. Variables created here are not visible outside of the function. If they have the same name as a global variable then python assumes you mean the local variable."
   ]
  },
  {
   "cell_type": "code",
   "execution_count": null,
   "metadata": {},
   "outputs": [],
   "source": [
    "a=1\n",
    "def func():\n",
    "    \"\"\"Even though we do not pass a to the function it is visible inside the function since the variable is in the global scope\"\"\"\n",
    "    print(a)\n",
    "\n",
    "func()"
   ]
  },
  {
   "cell_type": "code",
   "execution_count": null,
   "metadata": {},
   "outputs": [],
   "source": [
    "a=1\n",
    "def func():\n",
    "    #locals() returns a dictionary of all local variables\n",
    "    print(locals())\n",
    "    a=2\n",
    "    print(a)\n",
    "    print(locals())\n",
    "    print(a)    #   This prints 2 because local scope a takes precedence over global one\n",
    "\n",
    "print(a)\n",
    "func()  # When function is finished the local scope\n"
   ]
  },
  {
   "cell_type": "markdown",
   "metadata": {},
   "source": [
    "Always make your life easy. Avoid using names inside and outside of functions that conflict. Pass the variable to a function if possible. "
   ]
  },
  {
   "cell_type": "markdown",
   "metadata": {},
   "source": [
    "## Resources\n",
    "\n",
    "- <a href=\"https://realpython.com/learning-paths/python-basics/\"> Real python fundamentals </a>\n",
    "- My favourite learning python fundamentals book<a href=\"https://www.amazon.co.uk/Quick-Python-Book-Naomi-Ceder/dp/193518220X\">The Quick Python Book</a>. Can get used copies really cheap.\n",
    "\n"
   ]
  }
 ],
 "metadata": {
  "kernelspec": {
   "display_name": "Python 3 (ipykernel)",
   "language": "python",
   "name": "python3"
  },
  "language_info": {
   "codemirror_mode": {
    "name": "ipython",
    "version": 3
   },
   "file_extension": ".py",
   "mimetype": "text/x-python",
   "name": "python",
   "nbconvert_exporter": "python",
   "pygments_lexer": "ipython3",
   "version": "3.10.12"
  }
 },
 "nbformat": 4,
 "nbformat_minor": 4
}
