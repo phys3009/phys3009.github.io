{
 "cells": [
  {
   "cell_type": "markdown",
   "metadata": {},
   "source": [
    "# 3 Scientific Python\n",
    "## 3.1 Introduction\n",
    "\n",
    "One of the main reasons why python is great is because it is supported by such a large community of people developing opensource (free) packages. A package is a collection of code that can be run using python and augments the capabilities of standard python. In fact, it is often very hard to come up with an idea for which there is not already a python package. Many of these packages are available and can be installed either via Conda or Pip which we discussed at the beginning of the course. In this set of lectures we will look at a particular set of packages which are specifically targeted at scientific computing / datascience. \n",
    "\n",
    "Whilst users interact with these packages using python code, many of the key datastructures and operations are really written in low-level languages like c or Fortran. As a result one can largely overcome one of the main limitations of python - its speed.\n",
    "\n",
    "<img src=\"resources/images/scistack.png\" alt=\"Drawing\" style=\"width: 500px;\"/>\n",
    "\n",
    "The packages are related to one another:\n",
    "- The foundational package is `Numpy` - this introduces arrays and matrices and a range of associated operations. Whilst they look quite similar to lists they are fundamentally different in their use of memory which makes them extremely fast. This also means, the items in a numpy array must be of the same type.\n",
    "- Built on `Numpy` are a key plotting package `Matplotlib`, `Pandas` which enables one to efficiently work with tables of data and `SciPy` which contains many routines for fitting, solving equations and optimisation.\n"
   ]
  },
  {
   "cell_type": "markdown",
   "metadata": {},
   "source": [
    "## 3.2 Numpy\n",
    "\n",
    "Numpy is the base package for all of the other packages mentioned above. It handles single or multi-dimensional arrays and provides functions to perform many common operations using fast c and Fortran code whilst giving us a nice simple python interface. To use numpy we must use its own special datatypes the most basic of which is a 1d array."
   ]
  },
  {
   "cell_type": "code",
   "execution_count": null,
   "metadata": {},
   "outputs": [],
   "source": [
    "import numpy as np\n",
    "\n",
    "my_1d_horizontal_array = np.array([1,2,3,4,5])    # create a numpy array from a list\n",
    "my_1d_vertical_array = np.array([[1],[2],[3],[4],[5]])  # create vertical array.\n",
    "\n",
    "\n",
    "print(my_1d_horizontal_array)\n",
    "print(my_1d_vertical_array)\n",
    "\n",
    "print(type(my_1d_horizontal_array[1]))"
   ]
  },
  {
   "cell_type": "markdown",
   "metadata": {},
   "source": [
    "By default the values stored in these arrays are floats but we can save memory and specify the datatype. For example, it is common for images to be represented by arrays which have 8 bit integers (values ranging from 0 to 255)."
   ]
  },
  {
   "cell_type": "code",
   "execution_count": null,
   "metadata": {},
   "outputs": [],
   "source": [
    "my_1d_horizontal_array = np.array([1,2,3,4,5], dtype=np.int8)\n",
    "type(my_1d_horizontal_array[1])"
   ]
  },
  {
   "cell_type": "markdown",
   "metadata": {},
   "source": [
    "We can also create multidimensional arrays"
   ]
  },
  {
   "cell_type": "code",
   "execution_count": null,
   "metadata": {},
   "outputs": [],
   "source": [
    "my_2d_array = np.array([[1,2,3],[4,5,6],[7,8,9],[10,11,12]])\n",
    "\n",
    "print('2d arrays')\n",
    "print(my_2d_array)\n",
    "print(my_2d_array[0])   # Access row    equivalent to my_2d_array[0, :]\n",
    "print(my_2d_array[:,0]) # Access column\n",
    "print(my_2d_array[0,2])    #Access value   my_2d_array[row, col]   \n",
    "print('shape=',np.shape(my_2d_array))\n",
    "\n",
    "print('\\n3d arrays')\n",
    "my_3d_array = np.array([[[0,1,2],[3,4,5]],[[6,7,8],[9,10,11]]])\n",
    "\n",
    "print(my_3d_array)\n",
    "print(my_3d_array[0,1,2])\n",
    "print('shape=',np.shape(my_3d_array))\n"
   ]
  },
  {
   "cell_type": "markdown",
   "metadata": {},
   "source": [
    "---\n",
    "\n",
    "### *Warning*: - rows and columns or columns and rows\n",
    "\n",
    "Numpy arrays are accessed by their rows first, then columns, then depth and so on for higher dimensions. This is described as the axis where row=0, col=1, depth=2 etc. This can cause confusion when working with images (3d arrays) since other image processing modules often describe x or the column as the first number.\n",
    "\n",
    "---"
   ]
  },
  {
   "cell_type": "markdown",
   "metadata": {},
   "source": [
    "Numpy arrays enable us to do arithmetic, matrix muliplication, linear algebra etc. The same indexing and slicing behaviour we observed for lists and tuples also applies to numpy arrays. However, numpy is a bit more restrictive:\n",
    "\n",
    "- all values in an array must have the same type. \n",
    "- Nested arrays have to have a consistent length. \n",
    "\n",
    "The advantage is that they are fast and that you can do things like select a column of data easily (see above)."
   ]
  },
  {
   "cell_type": "code",
   "execution_count": null,
   "metadata": {},
   "outputs": [],
   "source": [
    "a = np.array([1,2,3])\n",
    "b = np.array([1,2,3])\n",
    "print(a+b)\n",
    "print(a+3)"
   ]
  },
  {
   "cell_type": "code",
   "execution_count": null,
   "metadata": {},
   "outputs": [],
   "source": [
    "c = np.array([[2,3],[4,5]])\n",
    "d = np.array([[1,0],[0,1]])\n",
    "print(c*d)"
   ]
  },
  {
   "cell_type": "code",
   "execution_count": null,
   "metadata": {},
   "outputs": [],
   "source": [
    "print(c.T)  # Transpose of a matrix\n",
    "print(np.linalg.det(c)) # Determinant of a matrix\n",
    "print(np.linalg.inv(c)) # Inverse of a matrix"
   ]
  },
  {
   "cell_type": "code",
   "execution_count": null,
   "metadata": {},
   "outputs": [],
   "source": [
    "initial_array = np.linspace(0,20,21)\n",
    "print(initial_array)\n",
    "third_value = initial_array[2]  #   Note indexing starts at 0 so third item is at index 2\n",
    "print(third_value)\n",
    "sliced_array = initial_array[1:9:2]     # Start at index 1, stop at index 9 (where 9 is not included) and take every other value in between.\n",
    "print(sliced_array)"
   ]
  },
  {
   "cell_type": "markdown",
   "metadata": {},
   "source": [
    "### 3.2.1 Numpy provides two special values:\n",
    "\n",
    "- `np.nan`    :      nan stands for Not A Number and is used to indicate invalid data\n",
    "- `np.inf`    :      represents mathematical infinity\n",
    "\n",
    "---\n",
    "\n",
    "### *Warning* - np.nan is not equal to np.nan\n",
    "\n",
    "```python\n",
    "np.nan == np.nan\n",
    "```\n",
    "\n",
    "One might think this should evaluate to `True` but it actually produces `False`. If you want to check if a value is a nan or inf use Numpy's built in methods: `np.isnan()` and `np.isinf()`\n",
    "\n",
    "---"
   ]
  },
  {
   "cell_type": "markdown",
   "metadata": {},
   "source": [
    "### 3.2.2 Performing calculations\n",
    "\n",
    "Numpy enables us to perform calculations on whole arrays at once. Whilst we can still loop through each index, Numpy intends us to use its builtin array methods. These come in two types:\n",
    "\n",
    "```python\n",
    "        new_array = array.method()\n",
    "        np.method(array)\n",
    "```\n",
    "\n",
    "For some methods only one of these formats exists, but sometimes both are possible. Check the documentation as often the second method modifies the existing array (ie has no return value).  In contrast the first method leaves the original array unchanged and produces an entirely new copy of the array with the method having been applied.  \n",
    "\n",
    "Other methods may not return a complete array but a single value. For example, suppose we want to sum all the numbers in an array:\n",
    "\n",
    "```python\n",
    "        total = array.sum()\n",
    "        total = np.sum(array)\n",
    "```\n",
    "\n",
    "Despite both returning a value they are not always the same in terms of performance. Regardless either method will be much quicker than writing it yourself in python. To make the point here is me summing an array of numbers using a loop and then doing the same with array.sum() and finally np.sum(array)Look at the difference in time. A bit of thought can speed up your code a lot."
   ]
  },
  {
   "cell_type": "code",
   "execution_count": null,
   "metadata": {},
   "outputs": [],
   "source": [
    "num_values = 10000000\n",
    "lots_of_numbers = np.linspace(0, num_values, num_values)    #   create large number of consecutive values"
   ]
  },
  {
   "cell_type": "code",
   "execution_count": null,
   "metadata": {},
   "outputs": [],
   "source": [
    "%%time\n",
    "# Sum numbers using a loop\n",
    "total=0\n",
    "for i in range(num_values):\n",
    "    total += lots_of_numbers[i]\n",
    "\n",
    "print(total)"
   ]
  },
  {
   "cell_type": "code",
   "execution_count": null,
   "metadata": {},
   "outputs": [],
   "source": [
    "%%time\n",
    "#Use builtin methods.\n",
    "total = lots_of_numbers.sum()\n",
    "print(total)"
   ]
  },
  {
   "cell_type": "code",
   "execution_count": null,
   "metadata": {},
   "outputs": [],
   "source": [
    "%%time\n",
    "total = np.sum(lots_of_numbers)\n",
    "print(total)"
   ]
  },
  {
   "cell_type": "markdown",
   "metadata": {},
   "source": [
    "### 3.2.3 Reading and writing data from files:\n",
    "\n",
    "Often numpy arrays will be populated with data stored in a file or alternatively the results calculated from that data will need to be stored again."
   ]
  },
  {
   "cell_type": "code",
   "execution_count": null,
   "metadata": {},
   "outputs": [],
   "source": [
    "#Read array from file\n",
    "old_data = np.loadtxt('resources/textfiles/numerical_data.txt')\n",
    "print(old_data)"
   ]
  },
  {
   "cell_type": "code",
   "execution_count": null,
   "metadata": {},
   "outputs": [],
   "source": [
    "#Write data to a file\n",
    "data1 = np.random.random(100)\n",
    "data2 = np.random.random(100)\n",
    "np.savetxt('resources/textfiles/data1.txt', data1)\n",
    "np.savetxt('resources/textfiles/combined_data.txt', np.c_[data1, data2])  #Puts two 1d arrays together. Open the text file and see how it is displayed"
   ]
  },
  {
   "cell_type": "markdown",
   "metadata": {},
   "source": [
    "### 3.2.4 Using Documentation\n",
    "\n",
    "Numpy like many significant python packages is enormous. There are literally thousands of functions designed to allow you to do all kinds of manipulations to data. Even if we spent several weeks working through its main sections what would that achieve? It is an impossible task to memorise how to use even a small subset of these functions. Plus this is just Numpy, there are loads of other useful python modules some which you may use a lot and some which you might use once in one project.\n",
    "\n",
    "A key skill as a programmer is to be able to know roughly what you are trying to achieve, find an appropriate python package, look up the documentation concerning a particular function and then to work out how to use it in your own code. Fortunately, for most mainstream scientific packages the documentation is very well written. "
   ]
  },
  {
   "cell_type": "markdown",
   "metadata": {},
   "source": [
    "### 3.2.5 Example - find the time at which the maximum intensity data was measured\n",
    "\n",
    "Here is a quick example. Suppose I am running an experiment that measures a signal that changes in intensity over time. I want to work out at what time the intensity was highest. The data consists of an array of time values and an array of intensity values. It's a fairly safe guess that numpy will have some functions to help me but I'm not sure exactly what I need. To solve this problem I need:\n",
    "\n",
    "1. To find the maximum intensity\n",
    "2. Find the index in the intensity array at which this maximum value exists\n",
    "3. Use this index on the time array to find the time at which the maximum occurs\n",
    "\n",
    "We need to look at the documentation and find some tools to help\n",
    "\n",
    "---\n",
    "\n",
    "#### 3.2.5.1 \n",
    "\n",
    "Before we try and look up the documentation its worth checking which version of Numpy we are using. From the terminal `conda list`\n",
    "\n",
    "<img src=\"resources/images/numpyversion.png\" alt=\"Drawing\" style=\"width: 700px;\"/>\n",
    "\n",
    "There are many versions and not every function will be backwards compatible, so we want to make sure the version number is similar. We are using v1.23 and google comes up with 1.25. It's probably close enough but if things don't seem to match double check. The further left the number is the more significant the changes will be. \n",
    "\n",
    "---\n",
    "\n",
    "I therefore google `numpy` and `max`. It gives me a few options.\n",
    "\n",
    "<img src=\"resources/images/googlenpmax.png\" alt=\"Google Numpy Max\" style=\"width: 500px;\"/>\n",
    "\n",
    "Follow this link to the docs for <a href=https://numpy.org/doc/stable/reference/generated/numpy.maximum.html>numpy.maximum</a>\n",
    "\n",
    "At the top of the page is the function definition. The next bit has a description of what the function does: \"Compare two arrays and return a new array containing the element-wise maxima\". This doesn't sound like what we want to do so I move on.\n",
    "\n",
    "The next two links are `numpy.ndarray.max` and `numpy.max`. The first is telling you this is a method that operates on an array (i.e max_val = array.max()). The second is telling you this is a numpy function (i.e `max_val = np.max(array)`). *compare with the examples using numpy.sum above*\n",
    "\n",
    "<a href=https://numpy.org/doc/stable/reference/generated/numpy.max.html>numpy.max</a>\n",
    "\n",
    "If we look at the numpy.max page we again see a function definition and a description\n",
    "\n",
    "<img src=\"resources/images/npmax.png\" alt=\"Drawing\" style=\"width: 600px;\"/>\n",
    "\n",
    "This is close. It will find the maximum number. We could use this to solve the problem but always scroll down and look at the \"See also\" section, sometimes there is a function that does what you want more exactly.\n",
    "\n",
    "<img src=\"resources/images/seealso.png\" alt=\"Drawing\" style=\"width: 600px;\"/>\n",
    "\n",
    "argmax  -   return the indices of the maximum values. This is exactly what we need.\n",
    "\n",
    "<img src=\"resources/images/npargmax.png\" alt=\"Drawing\" style=\"width: 600px;\"/>\n",
    "\n",
    "Whilst different packages will look slightly differently, most good documentation will have a similar format. Once we get used to it we can find answers really quickly. \n",
    "\n",
    "The top gives us the quick function definition. This tells us how to use the function. We then get the parameters, which are described in more detail below. Notice some are positional arguments and others are keyword arguments. With keyword arguments, we only need to supply a value if we want to change the default behaviour. There is a section that explains the values returned from a function. Both the parameters and returns tell us what datatype to use or expect. If we are still unsure how to use it the documentation has some simple examples demonstrating its use.\n",
    "\n",
    "<img src=\"resources/images/npexamples.png\" alt=\"Drawing\" style=\"width: 600px;\"/>\n",
    "\n",
    "Webpages like <a href=\"https://stackoverflow.com/\">stackoverflow</a>, tools like chatGpt can be useful, but checking the docs for your version is better.\n",
    "\n",
    "#### 3.2.5.2 Intellisense, tab completion and in-built docs\n",
    "\n",
    "Over time you'll learn the names of different functions, but you'll never remember it all. However, it becomes frustrating to have to look up the parameters, types etc every time. This is where a modern IDE comes in. In a new code cell, start typing `np.m`, you'll notice that vscode starts suggesting options to you which you can choose (intellisense). When you write an opening bracket pause (`np.max(`). The documentation which we've just been looking at should then pop up. You can scroll through it directly in vscode.\n",
    "\n",
    "<img src=\"resources/images/docs.png\" alt=\"Drawing\" style=\"width: 600px;\"/>"
   ]
  },
  {
   "cell_type": "markdown",
   "metadata": {},
   "source": [
    "## 3.3 Plotting graphs in python\n",
    "\n",
    "Visualising your data is a key part of science. Python has lots of different libraries for producing graphs. Some are general, some are more specialist. I list a few really popular ones:\n",
    "\n",
    "<a href = https://matplotlib.org/ > Matplotlib </a>     -   The place everyone should start, used very widely\n",
    "\n",
    "<a href = https://seaborn.pydata.org> Seaborn </a>      -   Built on top of Matplotlib to make it easier to produce nice looking plots\n",
    "\n",
    "<a href = https://plotly.com/python/getting-started> Plotly </a>  - Another framework, easier to produce interactivity.\n",
    "\n",
    "<a href = https://bokeh.org > Bokeh </a>    -   Interactive Web ready plots\n",
    "\n",
    "<a href = https://veusz.github.io> Veusz </a>   -   Gui based plotting package but completely scriptable in python \n",
    "\n",
    "<a href = https://www.pyqtgraph.org/ > PyQt Graph </a>  -   Links to the Gui framework PyQt\n",
    "\n",
    "<a href = https://gleam.run/documentation/ > Gleam </a>     -   Interactive Web apps\n",
    "\n",
    "<a href = https://github.com/andrea-cuttone/geoplotlib> Geoplotlib </a> -  Plotting geographical data"
   ]
  },
  {
   "cell_type": "markdown",
   "metadata": {},
   "source": [
    "### 3.3.1 Matplotlib\n",
    "\n",
    "For the purposes of these notes we will solely focus on Matplotlib, since it is probably the most widely used. Matplotlib creates both figures and axes. A figure is the container into which a plot will go. That container may hold one or more sets of axes. \n",
    "\n",
    "#### 3.3.1.1 A simple line plot\n",
    "Below we will create a sin wave with numpy and plot a quick line chart. Just as Numpy is almost always imported using a standard alias, Matplotlib is often imported using a standard pattern. This is isn't imperative but you'll confuse people if you change this. "
   ]
  },
  {
   "cell_type": "code",
   "execution_count": null,
   "metadata": {},
   "outputs": [],
   "source": [
    "import numpy as np\n",
    "import matplotlib.pyplot as plt\n",
    "\n",
    "k = 1/4*np.pi\n",
    "x = np.linspace(0,6*np.pi,100)\n",
    "y = np.sin(k*x)\n",
    "\n",
    "#Function driven\n",
    "fig = plt.figure()\n",
    "ax = fig.add_subplot()\n",
    "ax.set_xlabel('x')\n",
    "ax.set_ylabel('y')\n",
    "ax.set_title('Example line plot')\n",
    "\n",
    "ax.plot(x,y,'o-') #   The first two params are our data, the final optional parameter specifes what our line / symbols should look like.\n",
    "#plt.show()     #If you are running this code in the usual editor rather than a Jupyter notebook you need to also write plt.show()"
   ]
  },
  {
   "cell_type": "markdown",
   "metadata": {},
   "source": [
    "#### 3.3.1.2 A simple scatter plot\n",
    "\n",
    "There are two slightly different syntaxes in Matplotlib. One uses functions drawn from plt and the other operates on the axes objects. The line plot above shows the second approach whereas here we show a scatter plot which uses the first."
   ]
  },
  {
   "cell_type": "code",
   "execution_count": null,
   "metadata": {},
   "outputs": [],
   "source": [
    "import matplotlib.pyplot as plt\n",
    "\n",
    "# Data\n",
    "x = 10*np.random.random(10)\n",
    "y = 10*np.random.random(10)\n",
    "\n",
    "# Create a scatter plot\n",
    "plt.scatter(x, y)\n",
    "\n",
    "# Add labels and title\n",
    "plt.xlabel('X data')\n",
    "plt.ylabel('Y data')\n",
    "plt.title('Scatter Plot')\n",
    "\n",
    "# Display the plot\n",
    "plt.show()"
   ]
  },
  {
   "cell_type": "code",
   "execution_count": null,
   "metadata": {},
   "outputs": [],
   "source": [
    "#### 3.3.1.3 A simple histogram\n",
    "import numpy as np\n",
    "\n",
    "heights = 1.5+np.random.normal(0, scale=0.5, size=100)\n",
    "plt.hist(heights, bins=8)\n",
    "plt.xlabel('Height')\n",
    "plt.ylabel('Frequency')\n",
    "plt.title('Height distribution')\n",
    "plt.show()"
   ]
  },
  {
   "cell_type": "markdown",
   "metadata": {},
   "source": [
    "### 3.3.2 Multiple plots\n",
    "\n",
    "We can put multiple plots on the same figure. "
   ]
  },
  {
   "cell_type": "code",
   "execution_count": null,
   "metadata": {},
   "outputs": [],
   "source": [
    "import numpy as np\n",
    "import matplotlib.pyplot as plt\n",
    "\n",
    "x=np.linspace(0,4*np.pi,50)\n",
    "fig, axes = plt.subplots(2,1)   #   rows, columns\n",
    "axes[0].plot(x[::2], np.sin(x[::2]), 'gx--')\n",
    "axes[1].plot(x, np.cos(x), 'ro')"
   ]
  },
  {
   "cell_type": "markdown",
   "metadata": {},
   "source": [
    "### 3.3.3 Customising plots\n",
    "\n",
    "If all you want to do is plot some data, the above plots are probably fine. You can do a lot more with Matplotlib. However, before you do, it is worth asking yourself the question if this is the most efficient way to get the job done. Matplotlib enables you to customise absolutely everything and produce very sophisticated plots. However, this usually takes a lot of time. If your aim is to produce a one off, really nice looking plot for a publication or report you might be better off using a dedicated graph producing software. <a href = https://veusz.github.io> Veusz </a> (mentioned above) is free to download, entirely gui based and will allow you to customise things very nicely in a very short amount of time.\n",
    "\n",
    "You can however customise pretty much everything in a Matplotlib plot. This helpful graphic tells you what different features are called so you can look them up. \n",
    "\n",
    "<img src=\"resources/images/matplotlib.png\" alt=\"Drawing\" style=\"width: 600px;\"/>\n",
    "\n",
    "Another very useful approach if you want to create a more complicated plot is to look at the <a href=\"https://matplotlib.org/stable/gallery/index.html\">Matplotlib graph gallery</a>, where example plots come with the accompanying code. There you can understand how to alter linestyles, axes appearance and much more. This also demonstrates other more advanced plot types: contours, heatmaps etc some of which we'll explore in the exercises."
   ]
  },
  {
   "cell_type": "markdown",
   "metadata": {},
   "source": [
    "### Using Widgets\n",
    "\n",
    "Sometimes it is helpful to be able to interact with your data interactively. There are a number of ways to do this. If you are building more complicated programs you may want to use a gui framework such as <a href=\"https://docs.python.org/3/library/tkinter.html\">Tkinter</a> or <a href=\"https://zetcode.com/gui/pyqt5/\">PyQT5</a>. Matplotlib also provides its own <a href=\"https://matplotlib.org/stable/gallery/widgets/index.html\">widgets</a> which are quick to setup. In my experience these work well when running a python script but there are a lot of compatibility challenges when using these in Jupyter Notebooks for dataanalysis. If you are interested in exploring these I recommend reading up about <a href=\"https://matplotlib.org/ipympl/\">`ipympl`</a>.\n",
    "\n",
    "In the context of Jupyter Notebooks (or IPython) the quickest way to build simple interactive elements is <a href=\"https://ipywidgets.readthedocs.io/en/stable/examples/Using%20Interact.html\">IPyWidgets</a>. We will look at some simple use cases.\n",
    "\n",
    "You can install this library from Conda: \n",
    "\n",
    "```console\n",
    "    conda install ipywidgets\n",
    "```"
   ]
  },
  {
   "cell_type": "code",
   "execution_count": null,
   "metadata": {},
   "outputs": [],
   "source": [
    "import ipywidgets as widgets\n",
    "import numpy as np\n",
    "import matplotlib.pyplot as plt\n",
    "%matplotlib inline"
   ]
  },
  {
   "cell_type": "markdown",
   "metadata": {},
   "source": [
    "The simplest way to use IPyWidgets is to use the `interact` function. This takes what is called a callback function as the first argument. This is a function that is run every time a widget is updated. Notice this has not got brackets after it. This is because we don't want to call it. The interact function will call this function every time a change is made to a widget. We also supply options that indicate what type of widget we want. \n",
    "\n",
    "Here is a really simple example:"
   ]
  },
  {
   "cell_type": "code",
   "execution_count": null,
   "metadata": {},
   "outputs": [],
   "source": [
    "# Here is our callback function which must have a default argument\n",
    "def what_colour(colour='blue'):\n",
    "    print(colour)\n",
    "\n",
    "# Here we supply the call back function and a list of options for a dropdown box.\n",
    "widgets.interact(what_colour, colour=['blue','red','green'])"
   ]
  },
  {
   "cell_type": "code",
   "execution_count": null,
   "metadata": {},
   "outputs": [],
   "source": [
    "# This example makes a slider that adjusts a graph\n",
    "def plot_sin(freq=1.5):\n",
    "    xlim = [0, 10]\n",
    "    t = np.linspace(xlim[0], xlim[1], 1000)\n",
    "    f, ax = plt.subplots(1, 1, figsize=(3, 2))\n",
    "    ax.plot(t, np.sin(2 * np.pi * freq * t),\n",
    "            color='red')\n",
    "\n",
    "widgets.interact(plot_sin, freq=(0, 3.0, 0.1))"
   ]
  },
  {
   "cell_type": "code",
   "execution_count": null,
   "metadata": {},
   "outputs": [],
   "source": [
    "# You can also make widgets independently.\n",
    "range_slider = widgets.FloatRangeSlider(\n",
    "    value=[-1., +1.],\n",
    "    min=-5., max=+5., step=0.1,\n",
    "    description='xlim:',\n",
    "    readout_format='.1f',\n",
    ")\n",
    "range_slider"
   ]
  },
  {
   "cell_type": "code",
   "execution_count": null,
   "metadata": {},
   "outputs": [],
   "source": [
    "#And then access their value.\n",
    "range_slider.value"
   ]
  },
  {
   "cell_type": "markdown",
   "metadata": {},
   "source": [
    "IPyWidgets use the datatype of your input arguments to determine what sort of widget to create:\n",
    "\n",
    "Keyword arguments                                     |   Widget\n",
    "------------------------------------------------------|------------------\n",
    "`True` or `False`                                     |   Checkbox\n",
    "`A String`                                            |   Textbox\n",
    "`integer` or `(min, max)` or `(min, max, step)`       |   Integer Slider\n",
    "`float`   or `(min,max)` or `(min, max, step)`        |   Float Slider\n",
    "`['Option1','Option2']` or `[('one':1),('two':2)]`    |  Dropdown\n",
    "\n",
    "We can also use a shorthand called a decorator to indicate that a function should contain interactive elements. To do this we add `@widgets.interact(arguments)` above the callback function."
   ]
  },
  {
   "cell_type": "code",
   "execution_count": null,
   "metadata": {},
   "outputs": [],
   "source": [
    "@widgets.interact(freq=(0,3, 0.2), color=['blue', 'red', 'green'], lw=(1., 10.))\n",
    "def plot(freq=1., color='blue', lw=2, grid=True):\n",
    "    t = np.linspace(-1., +1., 1000)\n",
    "    fig, ax = plt.subplots(1, 1, figsize=(3, 2))\n",
    "    ax.plot(t, np.sin(2 * np.pi * freq * t),\n",
    "            lw=lw, color=color)\n",
    "    ax.grid(grid)\n"
   ]
  },
  {
   "cell_type": "code",
   "execution_count": null,
   "metadata": {},
   "outputs": [],
   "source": []
  }
 ],
 "metadata": {
  "kernelspec": {
   "display_name": "phys4038",
   "language": "python",
   "name": "python3"
  },
  "language_info": {
   "codemirror_mode": {
    "name": "ipython",
    "version": 3
   },
   "file_extension": ".py",
   "mimetype": "text/x-python",
   "name": "python",
   "nbconvert_exporter": "python",
   "pygments_lexer": "ipython3",
   "version": "3.10.14"
  }
 },
 "nbformat": 4,
 "nbformat_minor": 4
}
