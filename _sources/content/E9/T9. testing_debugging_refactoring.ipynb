{
 "cells": [
  {
   "cell_type": "markdown",
   "metadata": {},
   "source": [
    "# 9 Testing, Debugging and Refactoring"
   ]
  },
  {
   "cell_type": "markdown",
   "metadata": {},
   "source": [
    "Not even the best programmers in the world sit down at their computers and write the perfect code in one pass. \n",
    "\n",
    "1. The code may not work    -      there is a mistake in the program's logic which means it does not run as we expect (*bugs*)\n",
    "2. The code may not be very clear   -   code needs to be readable / understandable if we are to use it efficiently, extend or modify it.\n",
    "\n",
    "These might seem like separate issues but being consistent and clear in the way we code is a good way to reduce the number of bugs and improve our success rate at writing code that works. It will also help us debug code much faster, so we will look at this aspect first."
   ]
  },
  {
   "cell_type": "markdown",
   "metadata": {},
   "source": [
    "## 9.1 Writing \"Clean Code\"\n",
    "\n",
    "Python due to its basic design philosophy is a very \"free\" language with few restrictions. However, *with power comes great responsibility*! That freedom can turn into *spaghetti code* that is impossible to unravel. Sometimes throwing it away and starting from scratch is quicker than picking up and understanding an old project. \n",
    "\n",
    "Instead of restrictions, python has guidelines. The most important of these is <a href=\"https://peps.python.org/pep-0008/\">PEP 8</a>. This document isn't too long and it is worth flicking through. The document is infused with a desire for consistency mixed with pragmatism. It is the sum product  of a lot of very experienced python programmers and so shouldn't be discarded lightly. \n",
    "\n",
    "### 9.1.1 The Zen of python\n",
    "\n",
    "The underlying philosophy is nicely expressed in this famous poem from <a href=\"https://peps.python.org/pep-0020/\">PEP 20</a>:\n",
    "\n",
    "        Beautiful is better than ugly.\n",
    "        Explicit is better than implicit.\n",
    "        Simple is better than complex.\n",
    "        Complex is better than complicated.\n",
    "        Flat is better than nested.\n",
    "        Sparse is better than dense.\n",
    "        Readability counts.\n",
    "        Special cases aren't special enough to break the rules.\n",
    "        Although practicality beats purity.\n",
    "        Errors should never pass silently.\n",
    "        Unless explicitly silenced.\n",
    "        In the face of ambiguity, refuse the temptation to guess.\n",
    "        There should be one-- and preferably only one --obvious way to do it.\n",
    "        Although that way may not be obvious at first unless you're Dutch.\n",
    "        Now is better than never.\n",
    "        Although never is often better than *right* now.\n",
    "        If the implementation is hard to explain, it's a bad idea.\n",
    "        If the implementation is easy to explain, it may be a good idea.\n",
    "        Namespaces are one honking great idea -- let's do more of those!\n",
    "\n",
    "I'd recommend every so often looking at some of your code and then reading this and seeing how it matches up.\n",
    "\n",
    "### 9.1.2 Tools to make style easy\n",
    "\n",
    "Modern python / IDEs can make this process easier. Code formatters can be setup which can either point out where your code deviates from the style guidelines or be configured to reformat the code when you save it etc. <a href=\"https://pypi.org/project/pycodestyle/\">`pycodestyle`</a>, <a href=\"https://pypi.org/project/autopep8/\">`autopep8`</a>, <a href=\"https://pypi.org/project/black/\">`black`</a>.\n",
    "\n",
    "Many of these can also be setup with an extension in vscode. \n",
    "\n",
    "<img src=\"resources/images/autopep8.png\" alt=\"Drawing\" style=\"width:400px;\"/>\n",
    "\n",
    "I also recommend the `autodocstring` extension which will create a template docstring based on your function or class definition.\n",
    "\n",
    "<img src=\"resources/images/autodocstring.png\" alt=\"Drawing\" style=\"width:400px;\"/>\n",
    "\n",
    "However, these won't do everything for you. Get into the habit of trying to write good clean code. For example, using good descriptive variable, function and class names with the correct formatting:\n",
    "\n",
    "type            |       format\n",
    "----------------|-------------------------\n",
    "constant        |       ALL_CAPS_WITH_UNDERSCORES\n",
    "variable        |       lower_case\n",
    "function        |       lower_case\n",
    "class           |       FirstLetterCaps\n",
    "\n",
    "*n.b at least for the moment I can only get some of these extensions to work in scripts, not jupyter notebooks (if you know how I'd like to know!)*"
   ]
  },
  {
   "cell_type": "markdown",
   "metadata": {},
   "source": [
    "### 9.1.3 Structure\n",
    "\n",
    "One of the biggest helps to making code easy to follow is structuring and laying out your code logically. Within a single script this can be done by placing functions in logical groups, ordering things in relation to how they are called by your code. \n",
    "\n",
    "As your code expands you can place related functions and classes into their own modules and then group modules together in packages. However, just as we discussed when writing classes, it is better to have more, smaller modules, where each has a very definite purpose rather than one huge file called `allmyfunctions.py`."
   ]
  },
  {
   "cell_type": "markdown",
   "metadata": {},
   "source": [
    "### 9.1.4 Writing Pythonic Code\n",
    "\n",
    "As described in the `zen of python`, code needs to be simple without being simplistic. Python is a very expressive language. When written well it is clear what bits of code mean, even in the absence of good docstrings. As a simple example:\n",
    "\n",
    "```python\n",
    "for letter in alphabet:`\n",
    "```\n",
    "\n",
    "is much clearer than:\n",
    "        \n",
    "```python\n",
    "for idx in range(len(alphabet)):\n",
    "    letter = alphabet[idx]\n",
    "```            "
   ]
  },
  {
   "cell_type": "markdown",
   "metadata": {},
   "source": [
    "### 9.1.5 Docstrings and comments\n",
    "\n",
    "When writing longer bits of code it is important to view a function or class docstring as an important piece of the code and not an afterthought. Code with a docstring saves enormous amounts of cognitive work, both when using or modifying. However, there is nothing more frustrating than reading a docstring which explains how code works and finding that, this is not in fact how it works! The code was changed but the docstring was not updated at the time. It takes real discipline but when you change code update the docstring at the same time.\n",
    "\n",
    "Docstrings are the lines directly follow a function or class definition. These are really good and should be present all the time. However, comments shouldn't be used too much. Beginners are often told to comment their work. This can often result in over commenting which clutters a program and makes it harder to read. If code is written well in small chunks, with good docstrings then comments are not always necessary. One might add occasional comments where a particular line is hard to understand but often it is better to change the code to make it more obvious how it works."
   ]
  },
  {
   "cell_type": "markdown",
   "metadata": {},
   "source": [
    "## 9.2 Testing code\n",
    "\n",
    "The simplest way to test your code is to run it and check it does what you think it should! It is quite a common problem however to write some code, test it in this way and then having later made changes to the code discover it no longer works that way. In bigger projects it could go unnoticed for quite some time that part of the code is broken. Fortunately, you now know how to roll back changes in github so it is not irretrievable! However, it is better if you can know immediately when making changes that all your code still works. This helps you spot bugs, makes it easier to fix and more confident that your code is in working order.\n",
    "\n",
    "If you have very small program then the simplest way to create a test is to use the `assert` statement. This can be written directly into your code. It asserts that a certain statement is `True`. If it is the test passes and has no affect on your code. If it is `False` then it throws an error with a message. \n",
    "\n",
    "```python\n",
    "assert correct_value == 5, 'Hmm looks like a bug in your buggy function'\n",
    "```"
   ]
  },
  {
   "cell_type": "markdown",
   "metadata": {},
   "source": [
    "A more long term approach is to use a testing framework. This allows you to write small bits of code to test different parts of your program. These can then be run in an automated fashion passing or failing and therefore highlighting an issue if changes you've made have broken something.\n",
    "\n",
    "Python has two main testing frameworks:\n",
    "\n",
    "1. <a href=\"https://docs.python.org/3/library/unittest.html\">unittest</a>     -       A builtin package    \n",
    "\n",
    "2. <a href=\"https://docs.pytest.org/en/7.3.x/\">pytest</a>       -       Needs to be installed  \n",
    "\n",
    "Both contain very similar ideas. We will demonstrate using pytest as this is a little simpler to use."
   ]
  },
  {
   "cell_type": "markdown",
   "metadata": {},
   "source": [
    "### 9.2.1 Pytest\n",
    "\n",
    "Running tests on a module of code is more common in conventional scripts than a Jupyter notebook but it can be done in both. Let us suppose that we want to write tests for the following simple function:"
   ]
  },
  {
   "cell_type": "code",
   "execution_count": null,
   "metadata": {},
   "outputs": [],
   "source": [
    "def single_digit_integers(number):\n",
    "    \"\"\"This function tests if a supplied number is an integer and only one digit. It\n",
    "    should only evaluate True if number in [0,1,2,3,4,5,6,7,8,9]\n",
    "    \n",
    "    Note for the purposes of demonstation this code works with any integer not just numbers 0-9\n",
    "    so we can see tests showing up issues with the code.\n",
    "    \"\"\"\n",
    "    if type(number) == int:\n",
    "        return True\n",
    "    else:\n",
    "        return False"
   ]
  },
  {
   "cell_type": "markdown",
   "metadata": {},
   "source": [
    "To write tests we need to start our function names with `test_` or end with `_test`. These test functions are normal functions containing an `assert` statement that should evaluate to `True` if the test passes. Here I'm firstly testing that the returned type is an integer. This test should pass. Secondly I'm testing that only single digit integers pass. Since the original function doesn't implement this, supplying 10 should cause the test to fail."
   ]
  },
  {
   "cell_type": "code",
   "execution_count": null,
   "metadata": {},
   "outputs": [],
   "source": [
    "def test_integer():\n",
    "    \"\"\"test that a 10 is an integer\n",
    "    \n",
    "    Since 10 is an integer this test should pass\n",
    "    \"\"\"\n",
    "    assert single_digit_integers(10) is True\n",
    "\n",
    "def test_single_digit():\n",
    "    \"\"\"test single digit\n",
    "    \n",
    "    Since 10 is a 2 digit integer this should evaluate to False but it doesn't because our code is wrong.    \n",
    "    \"\"\"\n",
    "    assert single_digit_integers(10) is False"
   ]
  },
  {
   "cell_type": "markdown",
   "metadata": {},
   "source": [
    "If running a script I can run the tests from the terminal like this:\n",
    "\n",
    "```console\n",
    "pytest\n",
    "```\n",
    "\n",
    "This searches my entire project for tests. I can restrict it to just a particular file:\n",
    "\n",
    "```console\n",
    "pytest \"notebooks/resources/test_functions.py\"\n",
    "```\n",
    "\n",
    "or even a particular test function (test_func) in a particular file (test_functions.py)\n",
    "\n",
    "```console\n",
    "pytest \"notebooks/resources/test_functions.py::test_func\"\n",
    "```\n",
    "\n",
    "Alternatively if my tests are in a Jupyter notebook we should import ipytest\n",
    "\n",
    "```python\n",
    "import ipytest\n",
    "```\n",
    "\n",
    "```python\n",
    "ipytest.autoconfig()\n",
    "```\n",
    "\n",
    "We then decorate each cell containing tests with \n",
    "        \n",
    "```python\n",
    "%%ipytest\n",
    "```\n",
    "\n",
    "Using the test_functions.py file discussed above the output looks like this:\n",
    "\n",
    "<img src=\"resources/images/pytest.png\" alt=\"Drawing\" style=\"width: 800px;\"/>\n",
    "\n",
    "The report highlights that one test passed and one test failed. It shows me where the test failed. \n",
    "\n",
    "### 9.2.2 When should I write tests?\n",
    "\n",
    "There is no point writing tests for code that is to be used once for some quick dataanalysis. However, if you are writing code that is to be reused, or code that will be used by other code later on, tests can be really helpful. The danger is that without tests you refactor code and inadvertantly introduce a bug. Since other code depends on what you have done, you could be breaking other bits of code without realising. There is a tradeoff here but generally speaking, the bigger and more longterm the project the more it should rely on these automated tests. \n",
    "\n",
    "Once you have these tests you can run them each time you plan to push changes to a repository. They don't guarantee everything is perfect but they should catch a lot of issues.\n",
    "\n",
    "There is a lot more to testing but we will leave you to explore."
   ]
  },
  {
   "cell_type": "markdown",
   "metadata": {},
   "source": [
    "## 9.3 Debugging code\n",
    "\n",
    "If you test or develop code you will spend a lot of time trying to find and fix bugs. The main issue in trying to find a bug is to check that the variables etc have the values you expect at different points in the program. This helps you to check that the logic of your code does what you want. Where the variables or actions of the program do something unexpected you can analyse why and correct the code to fix the bug.\n",
    "\n",
    "The simplest approach which is quick and dirty but ultimately still used, is to use the python `print()` statement at various points in your code to examine the value of different variables. I still use this approach for small issues and it works fine. The downside with this approach is you can quite quickly end up with print statements littered throughout multiple modules. It also often means that even when you find the bug a small change to one line requires you to run the entire code to check if the updated logic will work.\n",
    "\n",
    "Modern IDEs come with a suite of debugging tools that can help make this process easier. Below we will explore a very simple example. A function that doesn't behave exactly as expected. Debugging can be done in both a main script or the Jupyter notebook. In VsCode clicking on the bug on lefthand toolbar to open debugging view. \n",
    "\n",
    "<img src=\"resources/images/debug.png\" alt=\"Drawing\" style=\"width: 100px;\"/>\n",
    "\n",
    "To run a script in debug mode click the arrow to the side of the run button (top right of script) and select `Debug python file`. In Jupyter notebook each cell can be debugged by similarly clicking the arrow to the right of the run button next to each cell.\n",
    "\n",
    "<img src=\"resources/images/debug2.png\" alt=\"Drawing\" style=\"width: 400px;\"/>"
   ]
  },
  {
   "cell_type": "code",
   "execution_count": null,
   "metadata": {},
   "outputs": [],
   "source": [
    "def categorise_value(a):\n",
    "    \"\"\"The aim of this function is any number from 0 to 2 should result in:\n",
    "    'a is between 0 and 2 inclusive' being printed out. However, there is a deliberate bug.\n",
    "    Since the first if is a >= 2 rather than a > 2 the value 2 will end up in the top\n",
    "    if statement.\n",
    "    \"\"\"\n",
    "    pointless_list = [1,2,3,4]\n",
    "\n",
    "    if a >= 2:\n",
    "        print('a is bigger than 2')\n",
    "    elif a >= 0:\n",
    "        print('a is between 0 and 2 inclusive')\n",
    "    else:\n",
    "        print('a is less than 0')\n",
    "\n",
    "b=1\n",
    "categorise_value(2) #   Expecting this to print out a is between 0 and 2 inclusive, but the bug means it doesn't\n"
   ]
  },
  {
   "cell_type": "markdown",
   "metadata": {},
   "source": [
    "### 9.3.1 Break points\n",
    "\n",
    "The equivalent of putting print statements in your code is to add a breakpoint. This is a position that will pause the code so you can examine the values of all the variables, trial a quick line of code etc. To create a breakpoint click in the margin to the left of the code.\n",
    "\n",
    "<img src=\"resources/images/breakpoint.png\" alt=\"Drawing\" style=\"width: 300px;\"/>\n",
    "\n",
    "Running in debug mode I have some controls. The left hand play button will run the code stopping at the next break point. The downwards arrow will step through the code, following the execution of the program, one line at a time.\n",
    "\n",
    "<img src=\"resources/images/debugcontrols.png\" alt=\"Drawing\" style=\"width: 300px;\"/>\n",
    "\n",
    "If we run the debug on the above cell pressing the play button twice brings us to the line `if a>=2:`. The `Locals` variable window shows us the values of all variables in the current scope. Since we are inside the function only `a` and `pointless_list` are visible. However, `b` which is in the wider scope is listed under `Globals`\n",
    "\n",
    "<img src=\"resources/images/breakpoints.png\" alt=\"Drawing\" style=\"width: 300px;\"/>\n",
    "\n",
    "The breakpoints window shows us a list of all the current breakpoints. We can turn these on or off and delete them when no longer needed, without having to search through our code. \n",
    "\n",
    "When the debugger is stopped at a breakpoint we can try small snippets of code using the `debug console`. This is a tab in the terminal window. This inherits all the values of the variables at the current point in the program being debugged. This means I can check the output of the the first if statement. I can then try an alternative to check that if I input a > 2 it will produce False.\n",
    "\n",
    "<img src=\"resources/images/debugconsole.png\" alt=\"Drawing\" style=\"width: 600px;\"/>"
   ]
  },
  {
   "cell_type": "markdown",
   "metadata": {},
   "source": [
    "## 9.4 Refactoring code\n",
    "\n",
    "Refactoring is a process of making changes to improve code quality. Why would you want to change code that already works? A key feature of code is that it is not just read by computers but to be useful must be read and understood by people. That person may even be you in several months time. What seemed obvious when it was written then seems like an incomprehensible spaghetti mess! Making code clearer, more readable makes it easier to use, easier to modify or maintain.\n",
    "\n",
    "Good refactoring consists of many of the elements we have already introduced such as writing \"clean code\" - naming, structuring, making code logical, clear and explicit rather than convoluted. Refactoring is a kind of continuous iterative process. When we revisit code and find it hard to understand, or recognise it could be written better, we should spend a bit of time improving it. \n",
    "\n",
    "### 9.4.1 Code Smells\n",
    "\n",
    "Code smells are patterns that help us recognise when code needs refactoring. Many of these are failures to do the sort of things we discussed under clean code:\n",
    "\n",
    "1. Structure your code into modules of related functions and classes. Even within a module think about how to layout the code to make most sense.\n",
    "\n",
    "2. Duplication of code DRY (Don't repeat yourself). Where we recognise a repeated bit of code we can abstract this to a single function helping maintainability and readability.\n",
    "\n",
    "3. Overly long functions or classes that try to do everything. Remember the SRP - Single responsibility principle or YAGNI - You ain't gonna need it. We can refactor by splitting these up into smaller more focussed chunks of code making it easier to understand.\n",
    "\n",
    "4. Overly complex convoluted logic. \"Explicit is better than Implicit, Simple is better than complex\". \n",
    "\n",
    "5. Think about how you name things to make the meaning obvious. Don't hard code numbers into your code but assign them to a meaningfully named variable. \n",
    "\n",
    "```python\n",
    "value > THRESHOLD\n",
    "```\n",
    "\n",
    "rather than\n",
    "\n",
    "```python\n",
    "value > 105\n",
    "```\n",
    "\n",
    "6. Remove redundant code\n",
    "\n",
    "7. Ensure docstrings are up to date and reflect what the code actually does.\n"
   ]
  },
  {
   "cell_type": "markdown",
   "metadata": {},
   "source": [
    "### Resources\n",
    "\n",
    "<a href=\"https://peps.python.org/pep-0008/\">PEP8 guidelines</a>\n",
    "\n",
    "Helpful webpage about <a href=\"https://refactoring.guru/refactoring\">Refactoring code</a>\n",
    "\n",
    "Fantastic pdf book on the subject <a href=\"https://github.com/jnguyen095/clean-code/blob/master/Clean.Code.A.Handbook.of.Agile.Software.Craftsmanship.pdf\"> Clean Code by Robert C. Martin </a>"
   ]
  }
 ],
 "metadata": {
  "kernelspec": {
   "display_name": "phys4038",
   "language": "python",
   "name": "python3"
  },
  "language_info": {
   "codemirror_mode": {
    "name": "ipython",
    "version": 3
   },
   "file_extension": ".py",
   "mimetype": "text/x-python",
   "name": "python",
   "nbconvert_exporter": "python",
   "pygments_lexer": "ipython3",
   "version": "3.10.14"
  }
 },
 "nbformat": 4,
 "nbformat_minor": 4
}
