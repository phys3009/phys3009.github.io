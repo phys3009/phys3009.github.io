{
 "cells": [
  {
   "cell_type": "markdown",
   "metadata": {},
   "source": [
    "# Project Title Here\n",
    "\n",
    "---\n",
    "Please fill out your details:\n",
    "\n",
    "Name = \n",
    "\n",
    "Student Id = \n",
    "\n",
    "Course Type = Taught Masters / Research Masters / MPAGS (Delete as appropriate) \n",
    "\n"
   ]
  },
  {
   "cell_type": "markdown",
   "metadata": {},
   "source": [
    "### Integrity statement\n",
    "\n",
    "**If not using this Jupyter notebook please make sure this statement is included in your main.py file**\n",
    "\n",
    "I, [your name], have read and understood the School's Academic Integrity Policy, as well as guidance relating to this module, and confirm that this submission complies with the policy. The content of this file is my own original work, with any significant material copied or adapted from other sources clearly indicated and attributed."
   ]
  },
  {
   "cell_type": "markdown",
   "metadata": {},
   "source": [
    "---\n",
    "\n",
    "**This cell can be deleted when you are ready to submit but we'd leave it as a checklist for yourself until that time**\n",
    "\n",
    "## Project Template\n",
    "\n",
    "This project template can be used for the submission of your project. Further details including dates and details of assessment are included in the appropriate part of the course book. You should structure the notebook to include markdown and code cells. Documentation should be included in docstrings / comments in your code cells, but markdown cells can be used to record decisions on your thought process; explanations of datasets; discussion of the functionality created and how it will help the user etc \n",
    "\n",
    "We would prefer submissions using this Jupyter Notebook (*.ipynb). The Jupyter Notebook should not only provide code but be structured with Markdown cells:\n",
    "\n",
    "- Please briefly outline the scenario.\n",
    "- Give a description of the aim of the project and the problem it is solving\n",
    "- A brief overview in words of how the code works\n",
    "- A discussion of design decisions taken in structuring the code.\n",
    "- How you would develop / improve the code if given more time?\n",
    "\n",
    "However, we are aware that some code eg guis does not work as well in a Jupyter notebook. If this is the case:\n",
    "\n",
    "- You should provide a `main.py` file which runs your code\n",
    "- Include any tests in a separate `tests.py` file\n",
    "- Provide a pdf which covers the points above. As a guide we'd expect 300-500 words\n",
    "\n",
    "In both formats, additional code / modules can also be included in other python files in the same folder and then imported. Make sure you use relative imports in your code.\n",
    "\n",
    "**Please make every effort to structure your code in a logical fashion to assist us in understanding it**\n",
    "\n",
    "In addition to the Jupyter Notebook / code you should also submit:\n",
    "\n",
    "- a Conda environment file which enables your notebook to be run. Please ensure you test this on a Windows machine.\n",
    "- any output that cannot easily be embedded in the notebook (e.g an example data file or some visualisation, pdfs). These should be referred to explicitly.\n",
    "\n",
    "Your program should (as a rough guide): \n",
    "\n",
    "- analyse real data or perform a simulation\n",
    "- define at least two user functions (but typically more)\n",
    "- make use of appropriate specialist modules\n",
    "- comprise >~ 50 lines of actual code (excluding comments, imports and other ‘boilerplate’)\n",
    "- contain no more than 1000 lines in total (if you have written more, please isolate an individual element). The additional code can be imported from a .py file but will not be marked.\n",
    "\n",
    "\n",
    "---"
   ]
  },
  {
   "cell_type": "markdown",
   "metadata": {},
   "source": [
    "## Imports\n",
    "\n",
    "*Please group all your imports together in the code cell below and provide web links in this cell to either a documentation page or a github repository. The accompanying conda environment file should install the necessary modules.\n",
    "\n",
    "Supplementary pieces of code can be included in .py files in the top level of your project. In this box you should name each .py file and state to what extent it is your own work. If it is the work of others or you have modified others work then you should state this clearly and provide a link to the source of the original code. The default assumption is that all code is your own work unless otherwise stated.* \n",
    "\n",
    "### Import documentation links and contribution statements\n",
    "\n",
    "\n"
   ]
  },
  {
   "cell_type": "code",
   "execution_count": null,
   "metadata": {},
   "outputs": [],
   "source": [
    "# Imports from external libraries\n",
    "\n",
    "\n",
    "\n",
    "# Imports from supplementary modules / code included with the project\n",
    "\n"
   ]
  },
  {
   "cell_type": "markdown",
   "metadata": {},
   "source": [
    "## Discussion of project\n",
    "\n",
    "These headings are a guide to help you cover the key points. Whilst the first heading should remain here ahead of your code it may be more appropriate to move the other headings around to suit your project, placing them near relevant code cells. The choice is yours.\n",
    "\n",
    "### Aim of project and the problem it is solving\n",
    "\n",
    "### Brief overview of how code works\n",
    "\n",
    "### Design decisions made in structuring of the code\n",
    "\n",
    "### How you would improve / develop the code if given more time"
   ]
  },
  {
   "cell_type": "markdown",
   "metadata": {},
   "source": [
    "## Main Code\n",
    "\n",
    "I suggest breaking your code up into multiple cells. Grouping related code together and interspersing with markdown cells where appropriate to explain what you are doing."
   ]
  },
  {
   "cell_type": "code",
   "execution_count": null,
   "metadata": {},
   "outputs": [],
   "source": []
  },
  {
   "cell_type": "markdown",
   "metadata": {},
   "source": [
    "## Tests\n",
    "\n",
    "Discuss how you chose what to test."
   ]
  },
  {
   "cell_type": "code",
   "execution_count": null,
   "metadata": {},
   "outputs": [],
   "source": [
    "# Tests"
   ]
  }
 ],
 "metadata": {
  "language_info": {
   "name": "python"
  }
 },
 "nbformat": 4,
 "nbformat_minor": 2
}
