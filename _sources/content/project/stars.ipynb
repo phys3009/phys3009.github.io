{
 "cells": [
  {
   "cell_type": "markdown",
   "metadata": {},
   "source": [
    "# Project 3: Analysing the stars\n",
    "\n",
    "**It is an explicit requirement that you should <u>not</u> be using machine learning in the project element of this course.**\n",
    "\n",
    "The Sloan Digital Sky Survey is a massive astronomy project that has been collecting images and optical spectra of objects in the night sky. It is used by researchers, but all the data is publicly available. One can deduce certain things from the spectra or associated information about the objects. For example, one can determine the redshift of a galaxy from its spectrum. This is a measure of how fast the galaxy is moving away from us. The spectra can also be used to determine the chemical composition of stars and galaxies.\n",
    "\n",
    "<a href=\"https://www.sdss3.org/dr14/ \">Project page </a> \n",
    "\n",
    "In order to come up with project scenarios we highly recommend reading through a few of the basic, advanced and research challenge sections on this <a href=\"https://skyserver.sdss.org/dr10/en/proj/advanced/advancedhome.aspx \">page of tutorials</a>.\n",
    "\n",
    "You don't necessarily need to solve these challenges, but they will give you some basic background and a sense of what kind of project might make sense. \n",
    "\n",
    "A challenge of working with this Astronomy dataset is the sheer size of it. There are hundreds of millions of objects in the database and so one cannot just blindly ask the server to send you images or spectra for all of them! Stars or Galaxies can also be given catchy names like NGC 5406 which are not things you are likely to know! Once you've come up with a scenario we suggest using the following <a href=\"https://skyserver.sdss.org/dr14/en/tools/search/form/searchform.aspx \">search tool</a> to narrow down objects that you want to work with. You should be aware that only a small fraction of the objects for which pictures exist have spectra (it is still a lot) but you can filter with this tool. You could download a manageable number of object ids and coordinates to a small csv, but be sure to include it with your project files so that we can reproduce your results.\n",
    "\n",
    "The coordinate system for identifying where objects are in the sky frequently refers to ra and dec which can be a bit confusing. See <a href=\"https://solarsystem.nasa.gov/basics/chapter2-2/  \">this page</a> for a simple explanation. \n",
    "\n",
    "Example Scenarios:\n",
    "\n",
    "1) An astronomer is interested in studying different types of astronomical objects. The optical spectrum of a quasar looks different to that of a galaxy or star. Young stars are very rich in elemental Hydrogen. Could you write a program that could classify objects based on their spectra? Perhaps given a list of objects it could return images of the objects suspected to be quasars or perhaps given a picture of a small bit of the night sky the astronomer could click on different objects and a label would appear telling them what type of object it is.\n",
    "\n",
    "2) Build a star thermometer. Although there are thousands of spectra the SDSS survey has a much larger collection of images taken through a number of different filters. These filters are designed to only let certain wavelengths of light through. The u filter lets through ultraviolet light, the g filter lets through green light, the r filter lets through red light etc. The temperature of a star determines how much light it emits at different wavelengths. A hot star will emit more light in the ultraviolet than a cooler star. A cooler star will emit more light in the infrared than a hotter star. A  bit more background is explained in <a href=\"https://skyserver.sdss.org/dr10/en/proj/basic/color/colorandtemp.aspx\">this tutorial </a>\n",
    "Star spectrums are in many cases approximated quite well by a <a href=\"https://en.wikipedia.org/wiki/Black-body_radiation \">blackbody spectrum</a> with a known shape that depends on the Temperature. Can you write a tool that when given a star's object id will return the temperature of the star?\n",
    "\n",
    "A Conda environment file project.yml is included to get you up and running."
   ]
  },
  {
   "cell_type": "code",
   "execution_count": null,
   "metadata": {},
   "outputs": [],
   "source": [
    "import numpy as np\n",
    "import matplotlib.pyplot as plt\n",
    "\n",
    "# Libraries to download data from the web\n",
    "from PIL import Image\n",
    "import requests\n",
    "from urllib.parse import urlencode\n",
    "\n",
    "#Some astropy submodules https://docs.astropy.org/en/stable/  \n",
    "from astropy import units\n",
    "from astropy import coordinates as coords\n",
    "\n",
    "# astroquery module https://astroquery.readthedocs.io/en/latest/#introduction\n",
    "# SDSS is a survey of the whole sky https://www.sdss.org/dr18/completed_surveys/\n",
    "from astroquery.sdss import SDSS"
   ]
  },
  {
   "cell_type": "code",
   "execution_count": null,
   "metadata": {},
   "outputs": [],
   "source": [
    "object_name = 'NGC 5406'\n",
    "object = coords.SkyCoord.from_name(object_name)\n",
    "\n",
    "print(object)\n",
    "# Coordinate systems ra and dec - \n",
    "pos = coords.SkyCoord(object.ra, object.dec, frame='icrs')\n",
    "\n",
    "# Sets size of image\n",
    "im_size = 5*units.arcmin\n",
    "im_pixels = 1024\n",
    "\n",
    "# We will get an image from the Sloan Digital Sky Survey\n",
    "# this builds the url to download the image\n",
    "baseurl = 'http://skyservice.pha.jhu.edu/DR14/ImgCutout/getjpeg.aspx'\n",
    "query_string = urlencode(dict(ra=object.ra.deg,\n",
    "                              dec=object.dec.deg,\n",
    "                              width=im_pixels, height=im_pixels,\n",
    "                              scale=im_size.to(units.arcsec).value/im_pixels))\n",
    "url = baseurl + '?' + query_string\n",
    "\n",
    "# this downloads the image\n",
    "response = requests.get(url, stream=True)\n",
    "response.raw.decode_content = True  \n",
    "\n",
    "# this displays the image\n",
    "with Image.open(response.raw) as img:\n",
    "    img = np.array(img)\n",
    "    plt.imshow(img)"
   ]
  },
  {
   "cell_type": "code",
   "execution_count": null,
   "metadata": {},
   "outputs": [],
   "source": [
    "# Passing the coordinates of the galaxy we look for a spectrum in the SDSS database\n",
    "# https://astroquery.readthedocs.io/en/latest/sdss/sdss.html\n",
    "search_radius = 0.1*units.arcmin\n",
    "xid = SDSS.query_region(pos, radius=search_radius, spectro=True)\n",
    "print(xid.colnames)\n",
    "print('coords = ', xid['ra'][0], xid['dec'][0])\n",
    "print('redshift = ', xid['z'][0])\n",
    "\n",
    "spectra = SDSS.get_spectra(matches=xid)\n",
    "\n",
    "#Find the magnitude of object taken through green filter\n",
    "result = SDSS.query_crossid(pos, photoobj_fields=['modelMag_g'])\n",
    "# print out the magnitudes taken through filters g and i\n",
    "print('Magnitude green = ', result['modelMag_g'][0])\n",
    "\n",
    "# Plotting the spectrum\n",
    "spectra_data = spectra[0][1].data\n",
    "plt.plot(10**spectra_data['loglam'], spectra_data['flux'])\n",
    "plt.xlabel('wavelength (Angstrom)')\n",
    "plt.ylabel('flux (nanomaggies)')\n",
    "plt.title('SDSS spectra of '+ object_name)"
   ]
  }
 ],
 "metadata": {
  "kernelspec": {
   "display_name": "marking",
   "language": "python",
   "name": "python3"
  },
  "language_info": {
   "codemirror_mode": {
    "name": "ipython",
    "version": 3
   },
   "file_extension": ".py",
   "mimetype": "text/x-python",
   "name": "python",
   "nbconvert_exporter": "python",
   "pygments_lexer": "ipython3",
   "version": "3.10.14"
  }
 },
 "nbformat": 4,
 "nbformat_minor": 2
}
