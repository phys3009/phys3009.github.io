{
 "cells": [
  {
   "cell_type": "markdown",
   "metadata": {},
   "source": [
    "# Stock Prices\n",
    "\n",
    "**It is an explicit requirement that you should <u>not</u> be using machine learning in the project element of this course.**\n",
    "\n",
    "In this project our starting point will be the data about different stocks available via <a href=\"https://uk.finance.yahoo.com/\">yahoo finance</a>. Using this huge database we can get live information and historical stock prices for a huge number of companies. For example, look at this page with <a href=\"https://uk.finance.yahoo.com/quote/AMZN?p=AMZN&.tsrc=fin-srch\">Amazon’s stock price</a>.\n",
    "The starter code shows you a very simple example, using a python library to extract this information for Amazon between two time points. \n",
    "Think about some of the factors that affect stock markets:\n",
    "\n",
    "•\tStocks vary individually, but there are also global trends. If the market is going up or down, most stocks will follow. You could try to identify whether the increases or decreases in a stock are due to the market or the stock itself.\n",
    "\n",
    "•\tStocks are often correlated with other factors. If the price of oil goes up, the price of airline stocks will go down. You could try to identify which stocks are correlated with which factors.\n",
    "\n",
    "•\tStocks fluctuate in value over time. Sometimes the fluctuation is significant and it means you should buy or sell fast. Sometimes it is insignificant and you should hold. You could try to identify whether the fluctuation is significant or not.\n",
    "\n",
    "•\tVisualising the historical trends in stocks can be useful. You could try to make it easy to visually compare the historical trends of different stocks, perhaps annotating graphs in a particular way when some of the events above occur.\n",
    "\n",
    "Some example scenarios:\n",
    "1)\tA business woman has a portfolio of 10 different stocks. She is busy running her own business and doesn’t have time to monitor the stock markets like some hedge fund managers do. What she wants is some code to monitor her stocks and alert her if there are “significant” changes in any of the share prices. You might want to think quite carefully about what significant means and how you’d work that out from the data. How are you going to alert her?\n",
    "2)\tModern historians are interested in understanding the effect of big global events on different types of industries. For example, COVID resulted in devastation for airlines but was a boom time for those selling conference software like Zoom. How could you make it easier for them to find patterns and trends?\n",
    "\n",
    "But don't be limited by these come up with your own ideas. As long as it involves you using the data from yahoo finance to solve a sensible problem you can do whatever you like. We are happy to discuss your idea with you if you are not sure.\n",
    "\n",
    "A Conda environment file project.yml is included to get you up and running."
   ]
  },
  {
   "cell_type": "code",
   "execution_count": null,
   "metadata": {},
   "outputs": [],
   "source": [
    "# import modules\n",
    "from datetime import datetime\n",
    "import yfinance as yf   #   https://github.com/ranaroussi/yfinance\n",
    "import matplotlib.pyplot as plt\n",
    "  \n"
   ]
  },
  {
   "cell_type": "code",
   "execution_count": null,
   "metadata": {},
   "outputs": [],
   "source": [
    "# initialize parameters\n",
    "start_date = datetime(2023, 3, 1)\n",
    "end_date = datetime(2023, 8, 1)\n",
    "  \n",
    "# get the data for the stock Amazon\n",
    "data = yf.download('AMZN', start = start_date, end = end_date)\n",
    "  \n",
    "# display\n",
    "plt.figure(figsize = (20,10))\n",
    "plt.title('Opening Prices from {} to {}'.format(start_date,\n",
    "                                                end_date))\n",
    "plt.plot(data['Open'])\n",
    "plt.ylabel('Price')\n",
    "plt.show()"
   ]
  }
 ],
 "metadata": {
  "kernelspec": {
   "display_name": "marking",
   "language": "python",
   "name": "python3"
  },
  "language_info": {
   "codemirror_mode": {
    "name": "ipython",
    "version": 3
   },
   "file_extension": ".py",
   "mimetype": "text/x-python",
   "name": "python",
   "nbconvert_exporter": "python",
   "pygments_lexer": "ipython3",
   "version": "3.10.12"
  }
 },
 "nbformat": 4,
 "nbformat_minor": 2
}
