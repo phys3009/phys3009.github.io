{
 "cells": [
  {
   "cell_type": "markdown",
   "metadata": {},
   "source": [
    "# Project 3: Beating the weather\n",
    "\n",
    "**It is an explicit requirement that you should <u>not</u> be using machine learning in the project element of this course.**\n",
    "\n",
    "<a href=\"https://open-meteo.com/\">Open-Meteo</a> provides free access to historic weather data globally and also forecasts into the future. \n",
    "\n",
    "\n",
    "Example scenarios:\n",
    "\n",
    "1)\tYou are approached by the owner of a hot air balloon company. They are looking to expand by adding a new location for hot air balloon flights. Hot air balloon flights can only take place when the wind is below 7mph and the weather is fine (ie sunny or cloudy but very little chance of rain). It needs to be in the UK but it also needs to be somewhere beautiful, perhaps a national park or area of outstanding natural beauty. If they can give you a list of places can you work out where, based on historical data is the best place (ie most number of days they will be able to fly per year). Perhaps you could even help them visualise number of estimated days flying on a contour map of the UK. By the way his brother owns a windsurfing business where strong winds are good and weak winds are bad.\n",
    "\n",
    "2)\tA number of councils have been looking at implementing congestion charges in their cities. To do so they will need to make a case that the air quality in their city due to traffic is too poor relative to the countryside. From this they will be able to argue that congestion charges are necessary on the basis of protecting people's health. Regardless of whether you believe it is about health or making money can you supply them with a tool that allows them to investigate the air quality in different places of interest. \n",
    "\n",
    "3)\tLooking at the underlying causes of changes in the weather has been constantly in the news due to the emphasis on climate change. The Open-Meteo weather api has 80 years of historical data. However, there are other interesting patterns you could look into. Sunspots are small dark regions of the Sun. There is a known cycle ~12 years in the number of visible sunspots. You can <a href=\"https://www.sidc.be/SILSO/datafiles\">download csv datafiles of the number of sunspots</a>. Does this have any effect on our Weather?\n",
    "\n",
    "You can use / adapt one of these or come up with something else. I look forward to seeing what you come up with.\n",
    "\n",
    "A Conda environment file project.yml is included to get you up and running."
   ]
  },
  {
   "cell_type": "code",
   "execution_count": null,
   "metadata": {},
   "outputs": [],
   "source": [
    "import openmeteo_requests\n",
    "\n",
    "import requests_cache\n",
    "import pandas as pd\n",
    "from retry_requests import retry\n",
    "import matplotlib.pyplot as plt\n",
    "\n",
    "# Setup the Open-Meteo API client with cache and retry on error\n",
    "cache_session = requests_cache.CachedSession('.cache', expire_after = -1)\n",
    "retry_session = retry(cache_session, retries = 5, backoff_factor = 0.2)\n",
    "openmeteo = openmeteo_requests.Client(session = retry_session)"
   ]
  },
  {
   "cell_type": "markdown",
   "metadata": {},
   "source": [
    "You can explore the data accessible through their api by looking at the <a href=\"https://open-meteo.com/en/docs\">documentation page</a>. The Open-Meteo API enables you to make requests using python that will return data according to the parameters you set. You are limited to 10000 API calls per day so don't go crazy or they'll likely block your computer. If you want to repeatedly test parts of your code then make an API call and store the data locally in a file. For full details on making a request, read the <a href=\"https://pypi.org/project/openmeteo-requests/\">python api documentation</a>"
   ]
  },
  {
   "cell_type": "code",
   "execution_count": null,
   "metadata": {},
   "outputs": [],
   "source": [
    "\"\"\"Some setup for the API call\n",
    "\"\"\"\n",
    "\n",
    "#Location for the weather data Place or 'Latitude,Longitude'\n",
    "Location=('52.9540','-1.1550') # 'Nottingham,UK'\n",
    "\n",
    "#Format YYYY-MM-DD\n",
    "StartDate = \"2024-06-09\"\n",
    "EndDate= \"2024-06-23\"\n",
    "\n",
    "# Make sure all required weather variables are listed here\n",
    "# The order of variables in hourly or daily is important to assign them correctly below\n",
    "url = \"https://archive-api.open-meteo.com/v1/archive\"\n",
    "params = {\n",
    "\t\"latitude\": Location[0],\n",
    "\t\"longitude\": Location[1],\n",
    "\t\"start_date\": StartDate,\n",
    "\t\"end_date\": EndDate,\n",
    "\t\"hourly\": \"temperature_2m\"\n",
    "}\n",
    "responses = openmeteo.weather_api(url, params=params)"
   ]
  },
  {
   "cell_type": "code",
   "execution_count": null,
   "metadata": {},
   "outputs": [],
   "source": [
    "# Process first location. Add a for-loop for multiple locations or weather models\n",
    "response = responses[0]\n",
    "print(f\"Coordinates {response.Latitude()}°N {response.Longitude()}°E\")\n",
    "print(f\"Elevation {response.Elevation()} m asl\")\n",
    "print(f\"Timezone {response.Timezone()} {response.TimezoneAbbreviation()}\")\n",
    "print(f\"Timezone difference to GMT+0 {response.UtcOffsetSeconds()} s\")\n",
    "\n",
    "# Process hourly data. The order of variables needs to be the same as requested.\n",
    "hourly = response.Hourly()\n",
    "hourly_temperature_2m = hourly.Variables(0).ValuesAsNumpy()\n",
    "\n",
    "hourly_data = {\"date\": pd.date_range(\n",
    "\tstart = pd.to_datetime(hourly.Time(), unit = \"s\", utc = True),\n",
    "\tend = pd.to_datetime(hourly.TimeEnd(), unit = \"s\", utc = True),\n",
    "\tfreq = pd.Timedelta(seconds = hourly.Interval()),\n",
    "\tinclusive = \"left\"\n",
    ")}\n",
    "hourly_data[\"temperature_2m\"] = hourly_temperature_2m\n",
    "\n",
    "hourly_dataframe = pd.DataFrame(hourly_data)"
   ]
  },
  {
   "cell_type": "code",
   "execution_count": null,
   "metadata": {},
   "outputs": [],
   "source": [
    "thin_xticks_factor=100\n",
    "plt.plot(hourly_dataframe['date'], hourly_dataframe['temperature_2m'])\n",
    "plt.xticks(hourly_dataframe['date'][::thin_xticks_factor])\n",
    "plt.ylabel('Temperature (C)')\n",
    "plt.xlabel('Day')"
   ]
  }
 ],
 "metadata": {
  "kernelspec": {
   "display_name": "weather",
   "language": "python",
   "name": "python3"
  },
  "language_info": {
   "codemirror_mode": {
    "name": "ipython",
    "version": 3
   },
   "file_extension": ".py",
   "mimetype": "text/x-python",
   "name": "python",
   "nbconvert_exporter": "python",
   "pygments_lexer": "ipython3",
   "version": "3.10.14"
  }
 },
 "nbformat": 4,
 "nbformat_minor": 2
}
