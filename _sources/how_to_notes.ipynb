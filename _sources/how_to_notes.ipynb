{
 "cells": [
  {
   "cell_type": "markdown",
   "metadata": {},
   "source": [
    "# How to notes PHYS3009"
   ]
  },
  {
   "cell_type": "markdown",
   "metadata": {},
   "source": [
    "## The book\n",
    "\n",
    "All pages you want included need to be added to the _toc.yml\n",
    "\n",
    "Images I add to a folder in the built html section, and then link to them in the markdown files. Videos I host on my webpages and then use a URL to link to them.\n",
    "Animations I build a separate html page and embed them.\n",
    "\n",
    "### Building the book\n",
    "\n",
    "cd to the directory with the book in it and run the following command:\n",
    "\n",
    "```jupyter-book build phys3009book```\n",
    "\n",
    "then push the html pages to github.\n",
    "\n",
    "### Troubleshooting\n",
    "\n",
    "The list of items in the contents page seems to depend on which page you are on. I found that if you open up _config.yml and add:\n",
    "\n",
    "`toc:\n",
    "    maxdepth: 4`\n",
    "\n",
    "to the file, where 4 is a big enough number, then the contents page will show all the pages in the book."
   ]
  }
 ],
 "metadata": {
  "language_info": {
   "name": "python"
  }
 },
 "nbformat": 4,
 "nbformat_minor": 2
}
